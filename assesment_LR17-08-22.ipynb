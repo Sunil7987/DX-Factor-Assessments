{
 "cells": [
  {
   "cell_type": "code",
   "execution_count": null,
   "id": "6a8d0036",
   "metadata": {},
   "outputs": [],
   "source": []
  },
  {
   "cell_type": "code",
   "execution_count": 14,
   "id": "f5bdb86c",
   "metadata": {},
   "outputs": [],
   "source": [
    "import pandas as pd\n",
    "import numpy as np\n",
    "import matplotlib.pyplot as plt\n",
    "import seaborn as sns"
   ]
  },
  {
   "cell_type": "code",
   "execution_count": null,
   "id": "32392375",
   "metadata": {},
   "outputs": [],
   "source": []
  },
  {
   "cell_type": "code",
   "execution_count": 15,
   "id": "168bc19f",
   "metadata": {},
   "outputs": [
    {
     "data": {
      "text/html": [
       "<div>\n",
       "<style scoped>\n",
       "    .dataframe tbody tr th:only-of-type {\n",
       "        vertical-align: middle;\n",
       "    }\n",
       "\n",
       "    .dataframe tbody tr th {\n",
       "        vertical-align: top;\n",
       "    }\n",
       "\n",
       "    .dataframe thead th {\n",
       "        text-align: right;\n",
       "    }\n",
       "</style>\n",
       "<table border=\"1\" class=\"dataframe\">\n",
       "  <thead>\n",
       "    <tr style=\"text-align: right;\">\n",
       "      <th></th>\n",
       "      <th>User ID</th>\n",
       "      <th>Gender</th>\n",
       "      <th>Age</th>\n",
       "      <th>EstimatedSalary</th>\n",
       "      <th>Purchased</th>\n",
       "    </tr>\n",
       "  </thead>\n",
       "  <tbody>\n",
       "    <tr>\n",
       "      <th>0</th>\n",
       "      <td>15624510</td>\n",
       "      <td>Male</td>\n",
       "      <td>19</td>\n",
       "      <td>19000</td>\n",
       "      <td>0</td>\n",
       "    </tr>\n",
       "    <tr>\n",
       "      <th>1</th>\n",
       "      <td>15810944</td>\n",
       "      <td>Male</td>\n",
       "      <td>35</td>\n",
       "      <td>20000</td>\n",
       "      <td>0</td>\n",
       "    </tr>\n",
       "    <tr>\n",
       "      <th>2</th>\n",
       "      <td>15668575</td>\n",
       "      <td>Female</td>\n",
       "      <td>26</td>\n",
       "      <td>43000</td>\n",
       "      <td>0</td>\n",
       "    </tr>\n",
       "    <tr>\n",
       "      <th>3</th>\n",
       "      <td>15603246</td>\n",
       "      <td>Female</td>\n",
       "      <td>27</td>\n",
       "      <td>57000</td>\n",
       "      <td>0</td>\n",
       "    </tr>\n",
       "    <tr>\n",
       "      <th>4</th>\n",
       "      <td>15804002</td>\n",
       "      <td>Male</td>\n",
       "      <td>19</td>\n",
       "      <td>76000</td>\n",
       "      <td>0</td>\n",
       "    </tr>\n",
       "  </tbody>\n",
       "</table>\n",
       "</div>"
      ],
      "text/plain": [
       "    User ID  Gender  Age  EstimatedSalary  Purchased\n",
       "0  15624510    Male   19            19000          0\n",
       "1  15810944    Male   35            20000          0\n",
       "2  15668575  Female   26            43000          0\n",
       "3  15603246  Female   27            57000          0\n",
       "4  15804002    Male   19            76000          0"
      ]
     },
     "execution_count": 15,
     "metadata": {},
     "output_type": "execute_result"
    }
   ],
   "source": [
    "df = pd.read_csv('Social_Network_Ads.csv')\n",
    "df.head()"
   ]
  },
  {
   "cell_type": "code",
   "execution_count": 16,
   "id": "4e08a4ee",
   "metadata": {},
   "outputs": [
    {
     "data": {
      "text/plain": [
       "(400, 5)"
      ]
     },
     "execution_count": 16,
     "metadata": {},
     "output_type": "execute_result"
    }
   ],
   "source": [
    "df.shape"
   ]
  },
  {
   "cell_type": "code",
   "execution_count": null,
   "id": "458ff074",
   "metadata": {},
   "outputs": [],
   "source": []
  },
  {
   "cell_type": "code",
   "execution_count": 17,
   "id": "b4f4e038",
   "metadata": {},
   "outputs": [
    {
     "name": "stdout",
     "output_type": "stream",
     "text": [
      "<class 'pandas.core.frame.DataFrame'>\n",
      "RangeIndex: 400 entries, 0 to 399\n",
      "Data columns (total 5 columns):\n",
      " #   Column           Non-Null Count  Dtype \n",
      "---  ------           --------------  ----- \n",
      " 0   User ID          400 non-null    int64 \n",
      " 1   Gender           400 non-null    object\n",
      " 2   Age              400 non-null    int64 \n",
      " 3   EstimatedSalary  400 non-null    int64 \n",
      " 4   Purchased        400 non-null    int64 \n",
      "dtypes: int64(4), object(1)\n",
      "memory usage: 15.8+ KB\n"
     ]
    }
   ],
   "source": [
    "df.info()"
   ]
  },
  {
   "cell_type": "code",
   "execution_count": null,
   "id": "0009af16",
   "metadata": {},
   "outputs": [],
   "source": []
  },
  {
   "cell_type": "code",
   "execution_count": 18,
   "id": "e531f876",
   "metadata": {},
   "outputs": [
    {
     "data": {
      "text/html": [
       "<div>\n",
       "<style scoped>\n",
       "    .dataframe tbody tr th:only-of-type {\n",
       "        vertical-align: middle;\n",
       "    }\n",
       "\n",
       "    .dataframe tbody tr th {\n",
       "        vertical-align: top;\n",
       "    }\n",
       "\n",
       "    .dataframe thead th {\n",
       "        text-align: right;\n",
       "    }\n",
       "</style>\n",
       "<table border=\"1\" class=\"dataframe\">\n",
       "  <thead>\n",
       "    <tr style=\"text-align: right;\">\n",
       "      <th></th>\n",
       "      <th>User ID</th>\n",
       "      <th>Age</th>\n",
       "      <th>EstimatedSalary</th>\n",
       "      <th>Purchased</th>\n",
       "    </tr>\n",
       "  </thead>\n",
       "  <tbody>\n",
       "    <tr>\n",
       "      <th>count</th>\n",
       "      <td>4.000000e+02</td>\n",
       "      <td>400.000000</td>\n",
       "      <td>400.000000</td>\n",
       "      <td>400.000000</td>\n",
       "    </tr>\n",
       "    <tr>\n",
       "      <th>mean</th>\n",
       "      <td>1.569154e+07</td>\n",
       "      <td>37.655000</td>\n",
       "      <td>69742.500000</td>\n",
       "      <td>0.357500</td>\n",
       "    </tr>\n",
       "    <tr>\n",
       "      <th>std</th>\n",
       "      <td>7.165832e+04</td>\n",
       "      <td>10.482877</td>\n",
       "      <td>34096.960282</td>\n",
       "      <td>0.479864</td>\n",
       "    </tr>\n",
       "    <tr>\n",
       "      <th>min</th>\n",
       "      <td>1.556669e+07</td>\n",
       "      <td>18.000000</td>\n",
       "      <td>15000.000000</td>\n",
       "      <td>0.000000</td>\n",
       "    </tr>\n",
       "    <tr>\n",
       "      <th>25%</th>\n",
       "      <td>1.562676e+07</td>\n",
       "      <td>29.750000</td>\n",
       "      <td>43000.000000</td>\n",
       "      <td>0.000000</td>\n",
       "    </tr>\n",
       "    <tr>\n",
       "      <th>50%</th>\n",
       "      <td>1.569434e+07</td>\n",
       "      <td>37.000000</td>\n",
       "      <td>70000.000000</td>\n",
       "      <td>0.000000</td>\n",
       "    </tr>\n",
       "    <tr>\n",
       "      <th>75%</th>\n",
       "      <td>1.575036e+07</td>\n",
       "      <td>46.000000</td>\n",
       "      <td>88000.000000</td>\n",
       "      <td>1.000000</td>\n",
       "    </tr>\n",
       "    <tr>\n",
       "      <th>max</th>\n",
       "      <td>1.581524e+07</td>\n",
       "      <td>60.000000</td>\n",
       "      <td>150000.000000</td>\n",
       "      <td>1.000000</td>\n",
       "    </tr>\n",
       "  </tbody>\n",
       "</table>\n",
       "</div>"
      ],
      "text/plain": [
       "            User ID         Age  EstimatedSalary   Purchased\n",
       "count  4.000000e+02  400.000000       400.000000  400.000000\n",
       "mean   1.569154e+07   37.655000     69742.500000    0.357500\n",
       "std    7.165832e+04   10.482877     34096.960282    0.479864\n",
       "min    1.556669e+07   18.000000     15000.000000    0.000000\n",
       "25%    1.562676e+07   29.750000     43000.000000    0.000000\n",
       "50%    1.569434e+07   37.000000     70000.000000    0.000000\n",
       "75%    1.575036e+07   46.000000     88000.000000    1.000000\n",
       "max    1.581524e+07   60.000000    150000.000000    1.000000"
      ]
     },
     "execution_count": 18,
     "metadata": {},
     "output_type": "execute_result"
    }
   ],
   "source": [
    "df.describe()"
   ]
  },
  {
   "cell_type": "code",
   "execution_count": null,
   "id": "9453b11c",
   "metadata": {},
   "outputs": [],
   "source": []
  },
  {
   "cell_type": "code",
   "execution_count": 19,
   "id": "b3bc04e3",
   "metadata": {},
   "outputs": [],
   "source": [
    "df['Gender'].replace(['Male','Female'],[0,1],inplace=True)"
   ]
  },
  {
   "cell_type": "code",
   "execution_count": 20,
   "id": "e0a0137a",
   "metadata": {},
   "outputs": [
    {
     "data": {
      "text/html": [
       "<div>\n",
       "<style scoped>\n",
       "    .dataframe tbody tr th:only-of-type {\n",
       "        vertical-align: middle;\n",
       "    }\n",
       "\n",
       "    .dataframe tbody tr th {\n",
       "        vertical-align: top;\n",
       "    }\n",
       "\n",
       "    .dataframe thead th {\n",
       "        text-align: right;\n",
       "    }\n",
       "</style>\n",
       "<table border=\"1\" class=\"dataframe\">\n",
       "  <thead>\n",
       "    <tr style=\"text-align: right;\">\n",
       "      <th></th>\n",
       "      <th>User ID</th>\n",
       "      <th>Gender</th>\n",
       "      <th>Age</th>\n",
       "      <th>EstimatedSalary</th>\n",
       "      <th>Purchased</th>\n",
       "    </tr>\n",
       "  </thead>\n",
       "  <tbody>\n",
       "    <tr>\n",
       "      <th>0</th>\n",
       "      <td>15624510</td>\n",
       "      <td>0</td>\n",
       "      <td>19</td>\n",
       "      <td>19000</td>\n",
       "      <td>0</td>\n",
       "    </tr>\n",
       "    <tr>\n",
       "      <th>1</th>\n",
       "      <td>15810944</td>\n",
       "      <td>0</td>\n",
       "      <td>35</td>\n",
       "      <td>20000</td>\n",
       "      <td>0</td>\n",
       "    </tr>\n",
       "    <tr>\n",
       "      <th>2</th>\n",
       "      <td>15668575</td>\n",
       "      <td>1</td>\n",
       "      <td>26</td>\n",
       "      <td>43000</td>\n",
       "      <td>0</td>\n",
       "    </tr>\n",
       "    <tr>\n",
       "      <th>3</th>\n",
       "      <td>15603246</td>\n",
       "      <td>1</td>\n",
       "      <td>27</td>\n",
       "      <td>57000</td>\n",
       "      <td>0</td>\n",
       "    </tr>\n",
       "    <tr>\n",
       "      <th>4</th>\n",
       "      <td>15804002</td>\n",
       "      <td>0</td>\n",
       "      <td>19</td>\n",
       "      <td>76000</td>\n",
       "      <td>0</td>\n",
       "    </tr>\n",
       "  </tbody>\n",
       "</table>\n",
       "</div>"
      ],
      "text/plain": [
       "    User ID  Gender  Age  EstimatedSalary  Purchased\n",
       "0  15624510       0   19            19000          0\n",
       "1  15810944       0   35            20000          0\n",
       "2  15668575       1   26            43000          0\n",
       "3  15603246       1   27            57000          0\n",
       "4  15804002       0   19            76000          0"
      ]
     },
     "execution_count": 20,
     "metadata": {},
     "output_type": "execute_result"
    }
   ],
   "source": [
    "df.head()"
   ]
  },
  {
   "cell_type": "code",
   "execution_count": null,
   "id": "c5697d78",
   "metadata": {},
   "outputs": [],
   "source": []
  },
  {
   "cell_type": "code",
   "execution_count": 21,
   "id": "f2091e11",
   "metadata": {},
   "outputs": [
    {
     "data": {
      "text/plain": [
       "User ID            0\n",
       "Gender             0\n",
       "Age                0\n",
       "EstimatedSalary    0\n",
       "Purchased          0\n",
       "dtype: int64"
      ]
     },
     "execution_count": 21,
     "metadata": {},
     "output_type": "execute_result"
    }
   ],
   "source": [
    "df.isnull().sum()"
   ]
  },
  {
   "cell_type": "code",
   "execution_count": null,
   "id": "05187057",
   "metadata": {},
   "outputs": [],
   "source": []
  },
  {
   "cell_type": "code",
   "execution_count": 22,
   "id": "2b1897db",
   "metadata": {},
   "outputs": [
    {
     "data": {
      "text/html": [
       "<div>\n",
       "<style scoped>\n",
       "    .dataframe tbody tr th:only-of-type {\n",
       "        vertical-align: middle;\n",
       "    }\n",
       "\n",
       "    .dataframe tbody tr th {\n",
       "        vertical-align: top;\n",
       "    }\n",
       "\n",
       "    .dataframe thead th {\n",
       "        text-align: right;\n",
       "    }\n",
       "</style>\n",
       "<table border=\"1\" class=\"dataframe\">\n",
       "  <thead>\n",
       "    <tr style=\"text-align: right;\">\n",
       "      <th></th>\n",
       "      <th>User ID</th>\n",
       "      <th>Gender</th>\n",
       "      <th>Age</th>\n",
       "      <th>EstimatedSalary</th>\n",
       "      <th>Purchased</th>\n",
       "    </tr>\n",
       "  </thead>\n",
       "  <tbody>\n",
       "    <tr>\n",
       "      <th>User ID</th>\n",
       "      <td>1.000000</td>\n",
       "      <td>0.025249</td>\n",
       "      <td>-0.000721</td>\n",
       "      <td>0.071097</td>\n",
       "      <td>0.007120</td>\n",
       "    </tr>\n",
       "    <tr>\n",
       "      <th>Gender</th>\n",
       "      <td>0.025249</td>\n",
       "      <td>1.000000</td>\n",
       "      <td>0.073741</td>\n",
       "      <td>0.060435</td>\n",
       "      <td>0.042469</td>\n",
       "    </tr>\n",
       "    <tr>\n",
       "      <th>Age</th>\n",
       "      <td>-0.000721</td>\n",
       "      <td>0.073741</td>\n",
       "      <td>1.000000</td>\n",
       "      <td>0.155238</td>\n",
       "      <td>0.622454</td>\n",
       "    </tr>\n",
       "    <tr>\n",
       "      <th>EstimatedSalary</th>\n",
       "      <td>0.071097</td>\n",
       "      <td>0.060435</td>\n",
       "      <td>0.155238</td>\n",
       "      <td>1.000000</td>\n",
       "      <td>0.362083</td>\n",
       "    </tr>\n",
       "    <tr>\n",
       "      <th>Purchased</th>\n",
       "      <td>0.007120</td>\n",
       "      <td>0.042469</td>\n",
       "      <td>0.622454</td>\n",
       "      <td>0.362083</td>\n",
       "      <td>1.000000</td>\n",
       "    </tr>\n",
       "  </tbody>\n",
       "</table>\n",
       "</div>"
      ],
      "text/plain": [
       "                  User ID    Gender       Age  EstimatedSalary  Purchased\n",
       "User ID          1.000000  0.025249 -0.000721         0.071097   0.007120\n",
       "Gender           0.025249  1.000000  0.073741         0.060435   0.042469\n",
       "Age             -0.000721  0.073741  1.000000         0.155238   0.622454\n",
       "EstimatedSalary  0.071097  0.060435  0.155238         1.000000   0.362083\n",
       "Purchased        0.007120  0.042469  0.622454         0.362083   1.000000"
      ]
     },
     "execution_count": 22,
     "metadata": {},
     "output_type": "execute_result"
    }
   ],
   "source": [
    "df.corr()"
   ]
  },
  {
   "cell_type": "code",
   "execution_count": 43,
   "id": "1a0ff760",
   "metadata": {},
   "outputs": [
    {
     "data": {
      "text/plain": [
       "<AxesSubplot:>"
      ]
     },
     "execution_count": 43,
     "metadata": {},
     "output_type": "execute_result"
    },
    {
     "data": {
      "image/png": "[encoded data removed]",
      "text/plain": [
       "<Figure size 432x288 with 2 Axes>"
      ]
     },
     "metadata": {
      "needs_background": "light"
     },
     "output_type": "display_data"
    }
   ],
   "source": [
    "sns.heatmap(df.corr(),annot=True)"
   ]
  },
  {
   "cell_type": "code",
   "execution_count": null,
   "id": "76ddecb3",
   "metadata": {},
   "outputs": [],
   "source": []
  },
  {
   "cell_type": "code",
   "execution_count": 24,
   "id": "9670d5d5",
   "metadata": {},
   "outputs": [],
   "source": [
    "X = df.iloc[:,:4]\n"
   ]
  },
  {
   "cell_type": "code",
   "execution_count": 25,
   "id": "ddc39473",
   "metadata": {},
   "outputs": [],
   "source": [
    "y = df.iloc[:,-1:]"
   ]
  },
  {
   "cell_type": "code",
   "execution_count": null,
   "id": "7826613f",
   "metadata": {},
   "outputs": [],
   "source": []
  },
  {
   "cell_type": "code",
   "execution_count": null,
   "id": "0d48797c",
   "metadata": {},
   "outputs": [],
   "source": []
  },
  {
   "cell_type": "code",
   "execution_count": 26,
   "id": "2e7898d2",
   "metadata": {},
   "outputs": [
    {
     "data": {
      "text/plain": [
       "((280, 4), (120, 4))"
      ]
     },
     "execution_count": 26,
     "metadata": {},
     "output_type": "execute_result"
    }
   ],
   "source": [
    "from sklearn.model_selection import train_test_split\n",
    "X_train,X_test,y_train,y_test=train_test_split(X,y,test_size=0.3,random_state=0)\n",
    "                                               \n",
    "X_train.shape,X_test.shape "
   ]
  },
  {
   "cell_type": "code",
   "execution_count": 27,
   "id": "1be8c8fd",
   "metadata": {},
   "outputs": [],
   "source": [
    "from  sklearn.preprocessing  import StandardScaler"
   ]
  },
  {
   "cell_type": "code",
   "execution_count": 28,
   "id": "beec2953",
   "metadata": {},
   "outputs": [],
   "source": [
    "ss = StandardScaler()"
   ]
  },
  {
   "cell_type": "code",
   "execution_count": 29,
   "id": "1a9cd172",
   "metadata": {},
   "outputs": [
    {
     "data": {
      "text/plain": [
       "StandardScaler()"
      ]
     },
     "execution_count": 29,
     "metadata": {},
     "output_type": "execute_result"
    }
   ],
   "source": [
    "ss.fit(X_train)"
   ]
  },
  {
   "cell_type": "code",
   "execution_count": 30,
   "id": "e5b29ddd",
   "metadata": {},
   "outputs": [],
   "source": [
    "x_train = ss.transform(X_train)\n",
    "x_test  = ss.transform(X_test)"
   ]
  },
  {
   "cell_type": "code",
   "execution_count": 31,
   "id": "26e65538",
   "metadata": {},
   "outputs": [
    {
     "data": {
      "text/plain": [
       "array([[ 1.67118864, -0.99288247, -1.1631724 , -1.5849703 ],\n",
       "       [-1.38839503, -0.99288247,  2.17018137,  0.93098672],\n",
       "       [-1.02465642,  1.00716855,  0.0133054 ,  1.22017719],\n",
       "       ...,\n",
       "       [-1.42070282, -0.99288247, -0.18277423, -0.51496559],\n",
       "       [ 1.19726096,  1.00716855, -1.06513258, -0.45712749],\n",
       "       [ 1.45653019,  1.00716855, -1.1631724 ,  1.39369146]])"
      ]
     },
     "execution_count": 31,
     "metadata": {},
     "output_type": "execute_result"
    }
   ],
   "source": [
    "x_train"
   ]
  },
  {
   "cell_type": "code",
   "execution_count": 32,
   "id": "0609d1fd",
   "metadata": {},
   "outputs": [
    {
     "data": {
      "text/plain": [
       "array([[ 4.79637466e-01, -9.92882472e-01, -7.71013130e-01,\n",
       "         4.97201030e-01],\n",
       "       [-5.57552735e-01,  1.00716855e+00,  1.33054037e-02,\n",
       "        -5.72803680e-01],\n",
       "       [ 1.20428316e+00, -9.92882472e-01, -2.80814046e-01,\n",
       "         1.50172476e-01],\n",
       "       [ 6.60685627e-01,  1.00716855e+00, -7.71013130e-01,\n",
       "         2.65848661e-01],\n",
       "       [-7.61380571e-01,  1.00716855e+00, -2.80814046e-01,\n",
       "        -5.72803680e-01],\n",
       "       [ 1.73038182e+00, -9.92882472e-01, -1.06513258e+00,\n",
       "        -1.44037507e+00],\n",
       "       [-1.15585546e+00,  1.00716855e+00, -6.72973313e-01,\n",
       "        -1.58497030e+00],\n",
       "       [-1.58490761e-01, -9.92882472e-01, -1.82774230e-01,\n",
       "         2.14558666e+00],\n",
       "       [-3.63012323e-01,  1.00716855e+00, -1.94749093e+00,\n",
       "        -5.22608478e-02],\n",
       "       [-9.81178249e-01, -9.92882472e-01,  8.95663754e-01,\n",
       "        -7.75237003e-01],\n",
       "       [-3.33653583e-02, -9.92882472e-01, -7.71013130e-01,\n",
       "        -6.01722726e-01],\n",
       "       [ 1.53298156e+00,  1.00716855e+00, -9.67092763e-01,\n",
       "        -4.28208449e-01],\n",
       "       [ 1.15618958e+00, -9.92882472e-01, -8.47344130e-02,\n",
       "        -4.28208449e-01],\n",
       "       [-1.59372358e+00, -9.92882472e-01,  1.11345220e-01,\n",
       "         2.08010568e-01],\n",
       "       [ 7.69572194e-01, -9.92882472e-01, -1.75141130e+00,\n",
       "         4.68281984e-01],\n",
       "       [ 1.37792686e+00,  1.00716855e+00, -5.74933496e-01,\n",
       "         1.36477242e+00],\n",
       "       [ 9.73881391e-01, -9.92882472e-01, -8.47344130e-02,\n",
       "         2.08010568e-01],\n",
       "       [ 1.64409088e+00, -9.92882472e-01, -1.84945111e+00,\n",
       "         4.39362938e-01],\n",
       "       [-5.31644216e-01,  1.00716855e+00,  1.67998229e+00,\n",
       "         1.74072002e+00],\n",
       "       [ 2.32841130e-01, -9.92882472e-01, -2.80814046e-01,\n",
       "        -1.38253697e+00],\n",
       "       [-1.16275024e+00,  1.00716855e+00, -2.80814046e-01,\n",
       "        -6.59560818e-01],\n",
       "       [ 7.70478284e-01,  1.00716855e+00,  8.95663754e-01,\n",
       "         2.14558666e+00],\n",
       "       [-1.92738141e-01,  1.00716855e+00,  3.07424854e-01,\n",
       "        -5.43884634e-01],\n",
       "       [ 5.39779208e-01, -9.92882472e-01,  8.95663754e-01,\n",
       "         1.01774386e+00],\n",
       "       [-1.09526068e+00,  1.00716855e+00, -1.45729185e+00,\n",
       "        -1.20902270e+00],\n",
       "       [ 8.78897647e-01,  1.00716855e+00,  1.09174339e+00,\n",
       "         2.05882953e+00],\n",
       "       [-3.47099113e-01,  1.00716855e+00, -9.67092763e-01,\n",
       "         4.97201030e-01],\n",
       "       [ 8.35910743e-02, -9.92882472e-01, -8.69052946e-01,\n",
       "         2.94767707e-01],\n",
       "       [-8.59535631e-01,  1.00716855e+00, -8.47344130e-02,\n",
       "        -2.25775125e-01],\n",
       "       [-1.51822078e+00,  1.00716855e+00, -5.74933496e-01,\n",
       "         4.68281984e-01],\n",
       "       [-1.48327967e+00, -9.92882472e-01, -1.65337148e+00,\n",
       "         5.26120077e-01],\n",
       "       [-7.67185212e-01, -9.92882472e-01, -8.47344130e-02,\n",
       "         2.65848661e-01],\n",
       "       [ 1.73815437e+00, -9.92882472e-01,  1.87606192e+00,\n",
       "        -2.83613218e-01],\n",
       "       [-9.85524651e-01, -9.92882472e-01, -8.47344130e-02,\n",
       "        -4.86046541e-01],\n",
       "       [ 3.72194982e-01, -9.92882472e-01, -1.35925203e+00,\n",
       "        -3.41451310e-01],\n",
       "       [ 7.78038474e-01, -9.92882472e-01, -1.94749093e+00,\n",
       "        -5.14965587e-01],\n",
       "       [-9.88303799e-02, -9.92882472e-01, -1.55533166e+00,\n",
       "         3.23686753e-01],\n",
       "       [-1.55915058e+00,  1.00716855e+00, -3.78853863e-01,\n",
       "        -7.75237003e-01],\n",
       "       [-2.60709069e-01,  1.00716855e+00, -6.72973313e-01,\n",
       "        -1.03550842e+00],\n",
       "       [-1.38377964e+00,  1.00716855e+00,  1.09174339e+00,\n",
       "        -9.77670327e-01],\n",
       "       [ 1.05484905e+00, -9.92882472e-01, -1.06513258e+00,\n",
       "         5.26120077e-01],\n",
       "       [-2.47061084e-01, -9.92882472e-01,  3.07424854e-01,\n",
       "        -5.14965587e-01],\n",
       "       [-1.32710652e+00,  1.00716855e+00, -1.06513258e+00,\n",
       "         4.10443892e-01],\n",
       "       [ 1.68705938e+00, -9.92882472e-01, -2.80814046e-01,\n",
       "        -1.44037507e+00],\n",
       "       [ 1.91359185e-01,  1.00716855e+00,  5.03504487e-01,\n",
       "         1.22017719e+00],\n",
       "       [-5.22144426e-01,  1.00716855e+00, -1.06513258e+00,\n",
       "        -3.41451310e-01],\n",
       "       [ 1.44561464e+00,  1.00716855e+00, -8.47344130e-02,\n",
       "         2.94767707e-01],\n",
       "       [ 8.25027749e-01,  1.00716855e+00,  1.38586284e+00,\n",
       "         5.83958169e-01],\n",
       "       [ 1.00269223e+00, -9.92882472e-01, -1.16317240e+00,\n",
       "        -1.15118460e+00],\n",
       "       [-1.09855941e+00, -9.92882472e-01,  1.09174339e+00,\n",
       "         4.68281984e-01],\n",
       "       [ 1.18652945e+00,  1.00716855e+00,  1.87606192e+00,\n",
       "         1.50936765e+00],\n",
       "       [-9.76152279e-01,  1.00716855e+00, -3.78853863e-01,\n",
       "        -1.29577984e+00],\n",
       "       [-1.77101996e+00,  1.00716855e+00, -2.80814046e-01,\n",
       "        -3.70370356e-01],\n",
       "       [-1.71094901e+00, -9.92882472e-01, -3.78853863e-01,\n",
       "         1.30693432e+00],\n",
       "       [-1.16252372e+00,  1.00716855e+00,  2.07214155e+00,\n",
       "         5.26120077e-01],\n",
       "       [ 7.13861800e-01, -9.92882472e-01,  6.99584120e-01,\n",
       "        -1.09334651e+00],\n",
       "       [ 7.52299848e-01,  1.00716855e+00, -8.69052946e-01,\n",
       "         3.81524845e-01],\n",
       "       [-1.71325671e+00,  1.00716855e+00, -1.16317240e+00,\n",
       "         2.94767707e-01],\n",
       "       [ 1.43043762e+00, -9.92882472e-01,  1.09174339e+00,\n",
       "        -1.20902270e+00],\n",
       "       [-7.43343712e-01, -9.92882472e-01, -1.45729185e+00,\n",
       "        -1.44037507e+00],\n",
       "       [-1.40025915e+00, -9.92882472e-01, -5.74933496e-01,\n",
       "        -1.49821316e+00],\n",
       "       [ 1.40997980e+00, -9.92882472e-01,  2.17018137e+00,\n",
       "        -8.04156050e-01],\n",
       "       [ 1.58877690e+00, -9.92882472e-01, -1.84945111e+00,\n",
       "         1.79091522e-01],\n",
       "       [ 1.10957832e-01, -9.92882472e-01, -1.82774230e-01,\n",
       "         8.44229585e-01],\n",
       "       [-4.20690631e-01,  1.00716855e+00, -1.84945111e+00,\n",
       "        -1.26686079e+00],\n",
       "       [ 1.17455207e+00, -9.92882472e-01,  2.17018137e+00,\n",
       "         3.81524845e-01],\n",
       "       [ 7.73578811e-01,  1.00716855e+00, -1.35925203e+00,\n",
       "         5.55039123e-01],\n",
       "       [ 5.23710263e-01, -9.92882472e-01, -1.06513258e+00,\n",
       "        -3.41451310e-01],\n",
       "       [-1.22399628e+00, -9.92882472e-01,  2.09385037e-01,\n",
       "        -6.59560818e-01],\n",
       "       [ 3.69674918e-01,  1.00716855e+00,  4.05464670e-01,\n",
       "         5.57724463e-03],\n",
       "       [ 4.31426385e-02,  1.00716855e+00, -5.74933496e-01,\n",
       "         2.31910094e+00],\n",
       "       [ 1.69035811e+00,  1.00716855e+00, -2.80814046e-01,\n",
       "         2.08010568e-01],\n",
       "       [-1.62252026e+00,  1.00716855e+00, -1.55533166e+00,\n",
       "        -1.96856079e-01],\n",
       "       [-5.98793999e-01, -9.92882472e-01,  6.99584120e-01,\n",
       "        -1.38253697e+00],\n",
       "       [ 1.38860174e+00, -9.92882472e-01, -1.06513258e+00,\n",
       "         5.55039123e-01],\n",
       "       [-8.89238402e-01, -9.92882472e-01, -1.94749093e+00,\n",
       "         3.52605799e-01],\n",
       "       [ 1.08322100e+00,  1.00716855e+00,  4.05464670e-01,\n",
       "         2.65848661e-01],\n",
       "       [-1.32673842e+00,  1.00716855e+00,  2.09385037e-01,\n",
       "        -2.83613218e-01],\n",
       "       [ 1.23240027e+00,  1.00716855e+00,  1.48390265e+00,\n",
       "        -1.03550842e+00],\n",
       "       [-7.39110571e-01,  1.00716855e+00,  8.95663754e-01,\n",
       "         1.07558195e+00],\n",
       "       [-3.80482876e-01, -9.92882472e-01,  1.97410174e+00,\n",
       "         2.14558666e+00],\n",
       "       [-1.22862584e+00,  1.00716855e+00,  2.07214155e+00,\n",
       "         3.81524845e-01],\n",
       "       [-6.03763338e-01,  1.00716855e+00, -1.35925203e+00,\n",
       "        -4.28208449e-01],\n",
       "       [ 2.03917030e-01,  1.00716855e+00, -1.16317240e+00,\n",
       "        -1.00658937e+00],\n",
       "       [ 6.31648266e-01,  1.00716855e+00,  1.97410174e+00,\n",
       "        -9.19832234e-01],\n",
       "       [ 4.13761872e-01,  1.00716855e+00,  4.05464670e-01,\n",
       "         2.94767707e-01],\n",
       "       [ 4.62124440e-01,  1.00716855e+00,  2.09385037e-01,\n",
       "         1.50172476e-01],\n",
       "       [ 2.40811893e-01, -9.92882472e-01,  2.07214155e+00,\n",
       "         1.74072002e+00],\n",
       "       [ 1.15101779e-03,  1.00716855e+00,  7.97623937e-01,\n",
       "        -8.33075096e-01],\n",
       "       [ 5.51766499e-02,  1.00716855e+00,  3.07424854e-01,\n",
       "        -2.83613218e-01],\n",
       "       [-1.13596820e-01, -9.92882472e-01,  4.05464670e-01,\n",
       "        -1.67937033e-01],\n",
       "       [-1.52140625e+00,  1.00716855e+00, -8.47344130e-02,\n",
       "         2.20342476e+00],\n",
       "       [ 1.18613304e+00,  1.00716855e+00, -1.45729185e+00,\n",
       "        -6.30641772e-01],\n",
       "       [-1.29127348e+00, -9.92882472e-01, -1.26121221e+00,\n",
       "        -1.06442747e+00],\n",
       "       [ 5.47424344e-01, -9.92882472e-01, -1.35925203e+00,\n",
       "         4.10443892e-01],\n",
       "       [ 8.36113197e-01,  1.00716855e+00, -1.06513258e+00,\n",
       "         7.57472446e-01],\n",
       "       [-1.61079772e+00, -9.92882472e-01, -1.45729185e+00,\n",
       "        -1.96856079e-01],\n",
       "       [ 1.64307152e+00, -9.92882472e-01,  9.93703570e-01,\n",
       "        -1.06442747e+00],\n",
       "       [-1.29404839e+00, -9.92882472e-01,  9.93703570e-01,\n",
       "         5.83958169e-01],\n",
       "       [-5.28444585e-01, -9.92882472e-01,  4.05464670e-01,\n",
       "         9.88824816e-01],\n",
       "       [ 1.67475637e+00,  1.00716855e+00,  6.01544304e-01,\n",
       "        -8.90913188e-01],\n",
       "       [-1.53045300e+00, -9.92882472e-01, -5.74933496e-01,\n",
       "         1.45152956e+00],\n",
       "       [ 5.97202678e-01,  1.00716855e+00,  1.33054037e-02,\n",
       "        -5.72803680e-01],\n",
       "       [-1.31583703e+00,  1.00716855e+00, -5.74933496e-01,\n",
       "         1.88531525e+00],\n",
       "       [-4.03956277e-01,  1.00716855e+00,  1.38586284e+00,\n",
       "        -1.41145602e+00],\n",
       "       [-1.46817345e+00,  1.00716855e+00,  1.48390265e+00,\n",
       "         9.88824816e-01],\n",
       "       [-3.31242533e-01, -9.92882472e-01,  1.11345220e-01,\n",
       "        -8.04156050e-01],\n",
       "       [ 4.25484415e-01, -9.92882472e-01,  1.33054037e-02,\n",
       "        -2.54694171e-01],\n",
       "       [-1.02918688e+00,  1.00716855e+00, -1.82774230e-01,\n",
       "        -5.72803680e-01],\n",
       "       [ 4.81534593e-01,  1.00716855e+00, -1.82774230e-01,\n",
       "        -1.96856079e-01],\n",
       "       [ 2.61567023e-01,  1.00716855e+00, -2.80814046e-01,\n",
       "        -1.29577984e+00],\n",
       "       [-1.34691734e-01, -9.92882472e-01, -2.80814046e-01,\n",
       "        -5.72803680e-01],\n",
       "       [-2.58273951e-01, -9.92882472e-01,  4.05464670e-01,\n",
       "         9.23343833e-02],\n",
       "       [ 6.36787497e-01,  1.00716855e+00,  8.95663754e-01,\n",
       "        -6.01722726e-01],\n",
       "       [ 1.63865433e+00,  1.00716855e+00,  2.07214155e+00,\n",
       "        -1.18010365e+00],\n",
       "       [-7.89412739e-01, -9.92882472e-01,  1.09174339e+00,\n",
       "        -1.39017986e-01],\n",
       "       [ 1.74782405e+00,  1.00716855e+00,  6.99584120e-01,\n",
       "         1.76963906e+00],\n",
       "       [ 1.44452450e+00,  1.00716855e+00, -6.72973313e-01,\n",
       "         5.55039123e-01],\n",
       "       [-1.04631764e+00,  1.00716855e+00,  7.97623937e-01,\n",
       "         3.52605799e-01],\n",
       "       [-8.78379477e-01,  1.00716855e+00,  8.95663754e-01,\n",
       "        -5.43884634e-01]])"
      ]
     },
     "execution_count": 32,
     "metadata": {},
     "output_type": "execute_result"
    }
   ],
   "source": [
    "x_test"
   ]
  },
  {
   "cell_type": "code",
   "execution_count": 33,
   "id": "866259e1",
   "metadata": {},
   "outputs": [],
   "source": [
    "x_train = pd.DataFrame(x_train, columns=X_train.columns)\n",
    "x_test = pd.DataFrame(x_test, columns=X_test.columns)"
   ]
  },
  {
   "cell_type": "code",
   "execution_count": 34,
   "id": "999b2d01",
   "metadata": {},
   "outputs": [
    {
     "data": {
      "text/html": [
       "<div>\n",
       "<style scoped>\n",
       "    .dataframe tbody tr th:only-of-type {\n",
       "        vertical-align: middle;\n",
       "    }\n",
       "\n",
       "    .dataframe tbody tr th {\n",
       "        vertical-align: top;\n",
       "    }\n",
       "\n",
       "    .dataframe thead th {\n",
       "        text-align: right;\n",
       "    }\n",
       "</style>\n",
       "<table border=\"1\" class=\"dataframe\">\n",
       "  <thead>\n",
       "    <tr style=\"text-align: right;\">\n",
       "      <th></th>\n",
       "      <th>User ID</th>\n",
       "      <th>Gender</th>\n",
       "      <th>Age</th>\n",
       "      <th>EstimatedSalary</th>\n",
       "    </tr>\n",
       "  </thead>\n",
       "  <tbody>\n",
       "    <tr>\n",
       "      <th>0</th>\n",
       "      <td>1.671189</td>\n",
       "      <td>-0.992882</td>\n",
       "      <td>-1.163172</td>\n",
       "      <td>-1.584970</td>\n",
       "    </tr>\n",
       "    <tr>\n",
       "      <th>1</th>\n",
       "      <td>-1.388395</td>\n",
       "      <td>-0.992882</td>\n",
       "      <td>2.170181</td>\n",
       "      <td>0.930987</td>\n",
       "    </tr>\n",
       "    <tr>\n",
       "      <th>2</th>\n",
       "      <td>-1.024656</td>\n",
       "      <td>1.007169</td>\n",
       "      <td>0.013305</td>\n",
       "      <td>1.220177</td>\n",
       "    </tr>\n",
       "    <tr>\n",
       "      <th>3</th>\n",
       "      <td>1.717767</td>\n",
       "      <td>-0.992882</td>\n",
       "      <td>0.209385</td>\n",
       "      <td>1.075582</td>\n",
       "    </tr>\n",
       "    <tr>\n",
       "      <th>4</th>\n",
       "      <td>1.535162</td>\n",
       "      <td>1.007169</td>\n",
       "      <td>0.405465</td>\n",
       "      <td>-0.486047</td>\n",
       "    </tr>\n",
       "    <tr>\n",
       "      <th>...</th>\n",
       "      <td>...</td>\n",
       "      <td>...</td>\n",
       "      <td>...</td>\n",
       "      <td>...</td>\n",
       "    </tr>\n",
       "    <tr>\n",
       "      <th>275</th>\n",
       "      <td>-1.023835</td>\n",
       "      <td>1.007169</td>\n",
       "      <td>0.993704</td>\n",
       "      <td>-1.151185</td>\n",
       "    </tr>\n",
       "    <tr>\n",
       "      <th>276</th>\n",
       "      <td>1.243033</td>\n",
       "      <td>-0.992882</td>\n",
       "      <td>-0.869053</td>\n",
       "      <td>-0.775237</td>\n",
       "    </tr>\n",
       "    <tr>\n",
       "      <th>277</th>\n",
       "      <td>-1.420703</td>\n",
       "      <td>-0.992882</td>\n",
       "      <td>-0.182774</td>\n",
       "      <td>-0.514966</td>\n",
       "    </tr>\n",
       "    <tr>\n",
       "      <th>278</th>\n",
       "      <td>1.197261</td>\n",
       "      <td>1.007169</td>\n",
       "      <td>-1.065133</td>\n",
       "      <td>-0.457127</td>\n",
       "    </tr>\n",
       "    <tr>\n",
       "      <th>279</th>\n",
       "      <td>1.456530</td>\n",
       "      <td>1.007169</td>\n",
       "      <td>-1.163172</td>\n",
       "      <td>1.393691</td>\n",
       "    </tr>\n",
       "  </tbody>\n",
       "</table>\n",
       "<p>280 rows × 4 columns</p>\n",
       "</div>"
      ],
      "text/plain": [
       "      User ID    Gender       Age  EstimatedSalary\n",
       "0    1.671189 -0.992882 -1.163172        -1.584970\n",
       "1   -1.388395 -0.992882  2.170181         0.930987\n",
       "2   -1.024656  1.007169  0.013305         1.220177\n",
       "3    1.717767 -0.992882  0.209385         1.075582\n",
       "4    1.535162  1.007169  0.405465        -0.486047\n",
       "..        ...       ...       ...              ...\n",
       "275 -1.023835  1.007169  0.993704        -1.151185\n",
       "276  1.243033 -0.992882 -0.869053        -0.775237\n",
       "277 -1.420703 -0.992882 -0.182774        -0.514966\n",
       "278  1.197261  1.007169 -1.065133        -0.457127\n",
       "279  1.456530  1.007169 -1.163172         1.393691\n",
       "\n",
       "[280 rows x 4 columns]"
      ]
     },
     "execution_count": 34,
     "metadata": {},
     "output_type": "execute_result"
    }
   ],
   "source": [
    "x_train"
   ]
  },
  {
   "cell_type": "code",
   "execution_count": 35,
   "id": "aae41502",
   "metadata": {},
   "outputs": [
    {
     "data": {
      "text/html": [
       "<div>\n",
       "<style scoped>\n",
       "    .dataframe tbody tr th:only-of-type {\n",
       "        vertical-align: middle;\n",
       "    }\n",
       "\n",
       "    .dataframe tbody tr th {\n",
       "        vertical-align: top;\n",
       "    }\n",
       "\n",
       "    .dataframe thead th {\n",
       "        text-align: right;\n",
       "    }\n",
       "</style>\n",
       "<table border=\"1\" class=\"dataframe\">\n",
       "  <thead>\n",
       "    <tr style=\"text-align: right;\">\n",
       "      <th></th>\n",
       "      <th>User ID</th>\n",
       "      <th>Gender</th>\n",
       "      <th>Age</th>\n",
       "      <th>EstimatedSalary</th>\n",
       "    </tr>\n",
       "  </thead>\n",
       "  <tbody>\n",
       "    <tr>\n",
       "      <th>0</th>\n",
       "      <td>0.479637</td>\n",
       "      <td>-0.992882</td>\n",
       "      <td>-0.771013</td>\n",
       "      <td>0.497201</td>\n",
       "    </tr>\n",
       "    <tr>\n",
       "      <th>1</th>\n",
       "      <td>-0.557553</td>\n",
       "      <td>1.007169</td>\n",
       "      <td>0.013305</td>\n",
       "      <td>-0.572804</td>\n",
       "    </tr>\n",
       "    <tr>\n",
       "      <th>2</th>\n",
       "      <td>1.204283</td>\n",
       "      <td>-0.992882</td>\n",
       "      <td>-0.280814</td>\n",
       "      <td>0.150172</td>\n",
       "    </tr>\n",
       "    <tr>\n",
       "      <th>3</th>\n",
       "      <td>0.660686</td>\n",
       "      <td>1.007169</td>\n",
       "      <td>-0.771013</td>\n",
       "      <td>0.265849</td>\n",
       "    </tr>\n",
       "    <tr>\n",
       "      <th>4</th>\n",
       "      <td>-0.761381</td>\n",
       "      <td>1.007169</td>\n",
       "      <td>-0.280814</td>\n",
       "      <td>-0.572804</td>\n",
       "    </tr>\n",
       "    <tr>\n",
       "      <th>...</th>\n",
       "      <td>...</td>\n",
       "      <td>...</td>\n",
       "      <td>...</td>\n",
       "      <td>...</td>\n",
       "    </tr>\n",
       "    <tr>\n",
       "      <th>115</th>\n",
       "      <td>-0.789413</td>\n",
       "      <td>-0.992882</td>\n",
       "      <td>1.091743</td>\n",
       "      <td>-0.139018</td>\n",
       "    </tr>\n",
       "    <tr>\n",
       "      <th>116</th>\n",
       "      <td>1.747824</td>\n",
       "      <td>1.007169</td>\n",
       "      <td>0.699584</td>\n",
       "      <td>1.769639</td>\n",
       "    </tr>\n",
       "    <tr>\n",
       "      <th>117</th>\n",
       "      <td>1.444524</td>\n",
       "      <td>1.007169</td>\n",
       "      <td>-0.672973</td>\n",
       "      <td>0.555039</td>\n",
       "    </tr>\n",
       "    <tr>\n",
       "      <th>118</th>\n",
       "      <td>-1.046318</td>\n",
       "      <td>1.007169</td>\n",
       "      <td>0.797624</td>\n",
       "      <td>0.352606</td>\n",
       "    </tr>\n",
       "    <tr>\n",
       "      <th>119</th>\n",
       "      <td>-0.878379</td>\n",
       "      <td>1.007169</td>\n",
       "      <td>0.895664</td>\n",
       "      <td>-0.543885</td>\n",
       "    </tr>\n",
       "  </tbody>\n",
       "</table>\n",
       "<p>120 rows × 4 columns</p>\n",
       "</div>"
      ],
      "text/plain": [
       "      User ID    Gender       Age  EstimatedSalary\n",
       "0    0.479637 -0.992882 -0.771013         0.497201\n",
       "1   -0.557553  1.007169  0.013305        -0.572804\n",
       "2    1.204283 -0.992882 -0.280814         0.150172\n",
       "3    0.660686  1.007169 -0.771013         0.265849\n",
       "4   -0.761381  1.007169 -0.280814        -0.572804\n",
       "..        ...       ...       ...              ...\n",
       "115 -0.789413 -0.992882  1.091743        -0.139018\n",
       "116  1.747824  1.007169  0.699584         1.769639\n",
       "117  1.444524  1.007169 -0.672973         0.555039\n",
       "118 -1.046318  1.007169  0.797624         0.352606\n",
       "119 -0.878379  1.007169  0.895664        -0.543885\n",
       "\n",
       "[120 rows x 4 columns]"
      ]
     },
     "execution_count": 35,
     "metadata": {},
     "output_type": "execute_result"
    }
   ],
   "source": [
    "x_test"
   ]
  },
  {
   "cell_type": "code",
   "execution_count": 36,
   "id": "cae2f93a",
   "metadata": {},
   "outputs": [],
   "source": [
    "from sklearn.linear_model import LogisticRegression"
   ]
  },
  {
   "cell_type": "code",
   "execution_count": 37,
   "id": "c5223c44",
   "metadata": {},
   "outputs": [],
   "source": [
    "lr = LogisticRegression()"
   ]
  },
  {
   "cell_type": "code",
   "execution_count": 38,
   "id": "ddd9e4c5",
   "metadata": {},
   "outputs": [
    {
     "name": "stderr",
     "output_type": "stream",
     "text": [
      "C:\\ProgramData\\Anaconda3\\lib\\site-packages\\sklearn\\utils\\validation.py:63: DataConversionWarning: A column-vector y was passed when a 1d array was expected. Please change the shape of y to (n_samples, ), for example using ravel().\n",
      "  return f(*args, **kwargs)\n"
     ]
    },
    {
     "data": {
      "text/plain": [
       "LogisticRegression()"
      ]
     },
     "execution_count": 38,
     "metadata": {},
     "output_type": "execute_result"
    }
   ],
   "source": [
    "lr.fit(x_train,y_train)"
   ]
  },
  {
   "cell_type": "code",
   "execution_count": 39,
   "id": "734066da",
   "metadata": {},
   "outputs": [],
   "source": [
    "predict = lr.predict(x_test)"
   ]
  },
  {
   "cell_type": "code",
   "execution_count": 40,
   "id": "587a6a7d",
   "metadata": {},
   "outputs": [],
   "source": [
    "from sklearn.metrics import accuracy_score"
   ]
  },
  {
   "cell_type": "code",
   "execution_count": 41,
   "id": "cc0ebcde",
   "metadata": {},
   "outputs": [],
   "source": [
    "accuracy = accuracy_score(y_test,predict)"
   ]
  },
  {
   "cell_type": "code",
   "execution_count": 42,
   "id": "6acb19b7",
   "metadata": {},
   "outputs": [
    {
     "data": {
      "text/plain": [
       "0.8833333333333333"
      ]
     },
     "execution_count": 42,
     "metadata": {},
     "output_type": "execute_result"
    }
   ],
   "source": [
    "accuracy"
   ]
  },
  {
   "cell_type": "code",
   "execution_count": null,
   "id": "b4509afe",
   "metadata": {},
   "outputs": [],
   "source": []
  }
 ],
 "metadata": {
  "kernelspec": {
   "display_name": "Python 3 (ipykernel)",
   "language": "python",
   "name": "python3"
  },
  "language_info": {
   "codemirror_mode": {
    "name": "ipython",
    "version": 3
   },
   "file_extension": ".py",
   "mimetype": "text/x-python",
   "name": "python",
   "nbconvert_exporter": "python",
   "pygments_lexer": "ipython3",
   "version": "3.9.7"
  }
 },
 "nbformat": 4,
 "nbformat_minor": 5
}
