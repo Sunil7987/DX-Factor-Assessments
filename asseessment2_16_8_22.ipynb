{
 "cells": [
  {
   "cell_type": "markdown",
   "id": "6a4425ef",
   "metadata": {},
   "source": [
    "## Here, I have imported all libraries which is needed"
   ]
  },
  {
   "cell_type": "code",
   "execution_count": 53,
   "id": "ea0e49a5",
   "metadata": {},
   "outputs": [],
   "source": [
    "import pandas as pd\n",
    "import numpy as np\n",
    "import matplotlib.pyplot as plt\n",
    "import seaborn as sns"
   ]
  },
  {
   "cell_type": "markdown",
   "id": "e24dceab",
   "metadata": {},
   "source": [
    "## Read CSV File"
   ]
  },
  {
   "cell_type": "code",
   "execution_count": 54,
   "id": "1adcd624",
   "metadata": {},
   "outputs": [],
   "source": [
    "df = pd.read_csv('dataset.csv')"
   ]
  },
  {
   "cell_type": "markdown",
   "id": "951459b3",
   "metadata": {},
   "source": [
    "## How our data look"
   ]
  },
  {
   "cell_type": "code",
   "execution_count": 55,
   "id": "714e4f54",
   "metadata": {},
   "outputs": [
    {
     "data": {
      "text/html": [
       "<div>\n",
       "<style scoped>\n",
       "    .dataframe tbody tr th:only-of-type {\n",
       "        vertical-align: middle;\n",
       "    }\n",
       "\n",
       "    .dataframe tbody tr th {\n",
       "        vertical-align: top;\n",
       "    }\n",
       "\n",
       "    .dataframe thead th {\n",
       "        text-align: right;\n",
       "    }\n",
       "</style>\n",
       "<table border=\"1\" class=\"dataframe\">\n",
       "  <thead>\n",
       "    <tr style=\"text-align: right;\">\n",
       "      <th></th>\n",
       "      <th>Gender</th>\n",
       "      <th>Age Range</th>\n",
       "      <th>Head Size(cm^3)</th>\n",
       "      <th>Brain Weight(grams)</th>\n",
       "    </tr>\n",
       "  </thead>\n",
       "  <tbody>\n",
       "    <tr>\n",
       "      <th>0</th>\n",
       "      <td>1</td>\n",
       "      <td>1</td>\n",
       "      <td>4512</td>\n",
       "      <td>1530</td>\n",
       "    </tr>\n",
       "    <tr>\n",
       "      <th>1</th>\n",
       "      <td>1</td>\n",
       "      <td>1</td>\n",
       "      <td>3738</td>\n",
       "      <td>1297</td>\n",
       "    </tr>\n",
       "    <tr>\n",
       "      <th>2</th>\n",
       "      <td>1</td>\n",
       "      <td>1</td>\n",
       "      <td>4261</td>\n",
       "      <td>1335</td>\n",
       "    </tr>\n",
       "    <tr>\n",
       "      <th>3</th>\n",
       "      <td>1</td>\n",
       "      <td>1</td>\n",
       "      <td>3777</td>\n",
       "      <td>1282</td>\n",
       "    </tr>\n",
       "    <tr>\n",
       "      <th>4</th>\n",
       "      <td>1</td>\n",
       "      <td>1</td>\n",
       "      <td>4177</td>\n",
       "      <td>1590</td>\n",
       "    </tr>\n",
       "  </tbody>\n",
       "</table>\n",
       "</div>"
      ],
      "text/plain": [
       "   Gender  Age Range  Head Size(cm^3)  Brain Weight(grams)\n",
       "0       1          1             4512                 1530\n",
       "1       1          1             3738                 1297\n",
       "2       1          1             4261                 1335\n",
       "3       1          1             3777                 1282\n",
       "4       1          1             4177                 1590"
      ]
     },
     "execution_count": 55,
     "metadata": {},
     "output_type": "execute_result"
    }
   ],
   "source": [
    "df.head()"
   ]
  },
  {
   "cell_type": "code",
   "execution_count": 56,
   "id": "6f75fc10",
   "metadata": {},
   "outputs": [
    {
     "data": {
      "text/plain": [
       "array([1, 2], dtype=int64)"
      ]
     },
     "execution_count": 56,
     "metadata": {},
     "output_type": "execute_result"
    }
   ],
   "source": [
    "#checking unique values \n",
    "\n",
    "df['Age Range'].unique()"
   ]
  },
  {
   "cell_type": "code",
   "execution_count": 57,
   "id": "d602e0b8",
   "metadata": {},
   "outputs": [],
   "source": [
    "# df[Gender'].unique()"
   ]
  },
  {
   "cell_type": "markdown",
   "id": "779446cd",
   "metadata": {},
   "source": [
    "## How Big our data"
   ]
  },
  {
   "cell_type": "code",
   "execution_count": 58,
   "id": "83a30d15",
   "metadata": {},
   "outputs": [
    {
     "data": {
      "text/plain": [
       "(237, 4)"
      ]
     },
     "execution_count": 58,
     "metadata": {},
     "output_type": "execute_result"
    }
   ],
   "source": [
    "df.shape"
   ]
  },
  {
   "cell_type": "markdown",
   "id": "7cdf6350",
   "metadata": {},
   "source": [
    "## Checking null values"
   ]
  },
  {
   "cell_type": "code",
   "execution_count": 59,
   "id": "2bd93518",
   "metadata": {},
   "outputs": [
    {
     "data": {
      "text/plain": [
       "Gender                 0\n",
       "Age Range              0\n",
       "Head Size(cm^3)        0\n",
       "Brain Weight(grams)    0\n",
       "dtype: int64"
      ]
     },
     "execution_count": 59,
     "metadata": {},
     "output_type": "execute_result"
    }
   ],
   "source": [
    "df.isnull().sum()"
   ]
  },
  {
   "cell_type": "markdown",
   "id": "7685afc4",
   "metadata": {},
   "source": [
    "## Mathmatical View of data"
   ]
  },
  {
   "cell_type": "code",
   "execution_count": 60,
   "id": "54006efa",
   "metadata": {},
   "outputs": [
    {
     "data": {
      "text/html": [
       "<div>\n",
       "<style scoped>\n",
       "    .dataframe tbody tr th:only-of-type {\n",
       "        vertical-align: middle;\n",
       "    }\n",
       "\n",
       "    .dataframe tbody tr th {\n",
       "        vertical-align: top;\n",
       "    }\n",
       "\n",
       "    .dataframe thead th {\n",
       "        text-align: right;\n",
       "    }\n",
       "</style>\n",
       "<table border=\"1\" class=\"dataframe\">\n",
       "  <thead>\n",
       "    <tr style=\"text-align: right;\">\n",
       "      <th></th>\n",
       "      <th>Gender</th>\n",
       "      <th>Age Range</th>\n",
       "      <th>Head Size(cm^3)</th>\n",
       "      <th>Brain Weight(grams)</th>\n",
       "    </tr>\n",
       "  </thead>\n",
       "  <tbody>\n",
       "    <tr>\n",
       "      <th>count</th>\n",
       "      <td>237.000000</td>\n",
       "      <td>237.000000</td>\n",
       "      <td>237.000000</td>\n",
       "      <td>237.000000</td>\n",
       "    </tr>\n",
       "    <tr>\n",
       "      <th>mean</th>\n",
       "      <td>1.434599</td>\n",
       "      <td>1.535865</td>\n",
       "      <td>3633.991561</td>\n",
       "      <td>1282.873418</td>\n",
       "    </tr>\n",
       "    <tr>\n",
       "      <th>std</th>\n",
       "      <td>0.496753</td>\n",
       "      <td>0.499768</td>\n",
       "      <td>365.261422</td>\n",
       "      <td>120.340446</td>\n",
       "    </tr>\n",
       "    <tr>\n",
       "      <th>min</th>\n",
       "      <td>1.000000</td>\n",
       "      <td>1.000000</td>\n",
       "      <td>2720.000000</td>\n",
       "      <td>955.000000</td>\n",
       "    </tr>\n",
       "    <tr>\n",
       "      <th>25%</th>\n",
       "      <td>1.000000</td>\n",
       "      <td>1.000000</td>\n",
       "      <td>3389.000000</td>\n",
       "      <td>1207.000000</td>\n",
       "    </tr>\n",
       "    <tr>\n",
       "      <th>50%</th>\n",
       "      <td>1.000000</td>\n",
       "      <td>2.000000</td>\n",
       "      <td>3614.000000</td>\n",
       "      <td>1280.000000</td>\n",
       "    </tr>\n",
       "    <tr>\n",
       "      <th>75%</th>\n",
       "      <td>2.000000</td>\n",
       "      <td>2.000000</td>\n",
       "      <td>3876.000000</td>\n",
       "      <td>1350.000000</td>\n",
       "    </tr>\n",
       "    <tr>\n",
       "      <th>max</th>\n",
       "      <td>2.000000</td>\n",
       "      <td>2.000000</td>\n",
       "      <td>4747.000000</td>\n",
       "      <td>1635.000000</td>\n",
       "    </tr>\n",
       "  </tbody>\n",
       "</table>\n",
       "</div>"
      ],
      "text/plain": [
       "           Gender   Age Range  Head Size(cm^3)  Brain Weight(grams)\n",
       "count  237.000000  237.000000       237.000000           237.000000\n",
       "mean     1.434599    1.535865      3633.991561          1282.873418\n",
       "std      0.496753    0.499768       365.261422           120.340446\n",
       "min      1.000000    1.000000      2720.000000           955.000000\n",
       "25%      1.000000    1.000000      3389.000000          1207.000000\n",
       "50%      1.000000    2.000000      3614.000000          1280.000000\n",
       "75%      2.000000    2.000000      3876.000000          1350.000000\n",
       "max      2.000000    2.000000      4747.000000          1635.000000"
      ]
     },
     "execution_count": 60,
     "metadata": {},
     "output_type": "execute_result"
    }
   ],
   "source": [
    "df.describe()"
   ]
  },
  {
   "cell_type": "markdown",
   "id": "818a0055",
   "metadata": {},
   "source": [
    "## Datatypes of our columns"
   ]
  },
  {
   "cell_type": "code",
   "execution_count": 61,
   "id": "13011d2a",
   "metadata": {},
   "outputs": [
    {
     "name": "stdout",
     "output_type": "stream",
     "text": [
      "<class 'pandas.core.frame.DataFrame'>\n",
      "RangeIndex: 237 entries, 0 to 236\n",
      "Data columns (total 4 columns):\n",
      " #   Column               Non-Null Count  Dtype\n",
      "---  ------               --------------  -----\n",
      " 0   Gender               237 non-null    int64\n",
      " 1   Age Range            237 non-null    int64\n",
      " 2   Head Size(cm^3)      237 non-null    int64\n",
      " 3   Brain Weight(grams)  237 non-null    int64\n",
      "dtypes: int64(4)\n",
      "memory usage: 7.5 KB\n"
     ]
    }
   ],
   "source": [
    "df.info()"
   ]
  },
  {
   "cell_type": "markdown",
   "id": "d35f207c",
   "metadata": {},
   "source": [
    "## Checking relation our columns"
   ]
  },
  {
   "cell_type": "code",
   "execution_count": 62,
   "id": "9967fe98",
   "metadata": {},
   "outputs": [
    {
     "data": {
      "text/html": [
       "<div>\n",
       "<style scoped>\n",
       "    .dataframe tbody tr th:only-of-type {\n",
       "        vertical-align: middle;\n",
       "    }\n",
       "\n",
       "    .dataframe tbody tr th {\n",
       "        vertical-align: top;\n",
       "    }\n",
       "\n",
       "    .dataframe thead th {\n",
       "        text-align: right;\n",
       "    }\n",
       "</style>\n",
       "<table border=\"1\" class=\"dataframe\">\n",
       "  <thead>\n",
       "    <tr style=\"text-align: right;\">\n",
       "      <th></th>\n",
       "      <th>Gender</th>\n",
       "      <th>Age Range</th>\n",
       "      <th>Head Size(cm^3)</th>\n",
       "      <th>Brain Weight(grams)</th>\n",
       "    </tr>\n",
       "  </thead>\n",
       "  <tbody>\n",
       "    <tr>\n",
       "      <th>Gender</th>\n",
       "      <td>1.000000</td>\n",
       "      <td>-0.088652</td>\n",
       "      <td>-0.514050</td>\n",
       "      <td>-0.465266</td>\n",
       "    </tr>\n",
       "    <tr>\n",
       "      <th>Age Range</th>\n",
       "      <td>-0.088652</td>\n",
       "      <td>1.000000</td>\n",
       "      <td>-0.105428</td>\n",
       "      <td>-0.169438</td>\n",
       "    </tr>\n",
       "    <tr>\n",
       "      <th>Head Size(cm^3)</th>\n",
       "      <td>-0.514050</td>\n",
       "      <td>-0.105428</td>\n",
       "      <td>1.000000</td>\n",
       "      <td>0.799570</td>\n",
       "    </tr>\n",
       "    <tr>\n",
       "      <th>Brain Weight(grams)</th>\n",
       "      <td>-0.465266</td>\n",
       "      <td>-0.169438</td>\n",
       "      <td>0.799570</td>\n",
       "      <td>1.000000</td>\n",
       "    </tr>\n",
       "  </tbody>\n",
       "</table>\n",
       "</div>"
      ],
      "text/plain": [
       "                       Gender  Age Range  Head Size(cm^3)  Brain Weight(grams)\n",
       "Gender               1.000000  -0.088652        -0.514050            -0.465266\n",
       "Age Range           -0.088652   1.000000        -0.105428            -0.169438\n",
       "Head Size(cm^3)     -0.514050  -0.105428         1.000000             0.799570\n",
       "Brain Weight(grams) -0.465266  -0.169438         0.799570             1.000000"
      ]
     },
     "execution_count": 62,
     "metadata": {},
     "output_type": "execute_result"
    }
   ],
   "source": [
    "df.corr()"
   ]
  },
  {
   "cell_type": "code",
   "execution_count": 63,
   "id": "856385e7",
   "metadata": {},
   "outputs": [
    {
     "data": {
      "image/png": "[encoded data removed]",
      "text/plain": [
       "<Figure size 432x288 with 2 Axes>"
      ]
     },
     "metadata": {
      "needs_background": "light"
     },
     "output_type": "display_data"
    }
   ],
   "source": [
    "sns.heatmap(df.corr(), cmap=\"YlGnBu\", annot=True)\n",
    "\n",
    "plt.show()"
   ]
  },
  {
   "cell_type": "markdown",
   "id": "af602619",
   "metadata": {},
   "source": [
    "## Checking outliers"
   ]
  },
  {
   "cell_type": "code",
   "execution_count": 64,
   "id": "d59d6a0f",
   "metadata": {},
   "outputs": [
    {
     "data": {
      "image/png": "[encoded data removed]",
      "text/plain": [
       "<Figure size 432x288 with 1 Axes>"
      ]
     },
     "metadata": {
      "needs_background": "light"
     },
     "output_type": "display_data"
    }
   ],
   "source": [
    "sns.boxplot(x=\"variable\", y=\"value\", data=pd.melt(df))\n",
    "\n",
    "plt.show()"
   ]
  },
  {
   "cell_type": "code",
   "execution_count": 65,
   "id": "d8dc0c43",
   "metadata": {},
   "outputs": [
    {
     "data": {
      "text/plain": [
       "False"
      ]
     },
     "execution_count": 65,
     "metadata": {},
     "output_type": "execute_result"
    }
   ],
   "source": [
    "#eqality of two columns\n",
    "\n",
    "df['Gender'].equals(df['Age Range'])"
   ]
  },
  {
   "cell_type": "code",
   "execution_count": 66,
   "id": "2a1f9b48",
   "metadata": {},
   "outputs": [],
   "source": [
    "# color_dict={1:'red',3:'green',2:'blue'}\n",
    "# sns.scatterplot('Gender','Head Size(cm^3)',hue='Brain Weight(grams)',data=df)"
   ]
  },
  {
   "cell_type": "markdown",
   "id": "1f8b2c38",
   "metadata": {},
   "source": [
    "## Divide data for train and test"
   ]
  },
  {
   "cell_type": "code",
   "execution_count": 67,
   "id": "b722d2a9",
   "metadata": {},
   "outputs": [],
   "source": [
    "X = df.iloc[:,:3]\n"
   ]
  },
  {
   "cell_type": "code",
   "execution_count": 68,
   "id": "89978a3f",
   "metadata": {},
   "outputs": [
    {
     "data": {
      "text/html": [
       "<div>\n",
       "<style scoped>\n",
       "    .dataframe tbody tr th:only-of-type {\n",
       "        vertical-align: middle;\n",
       "    }\n",
       "\n",
       "    .dataframe tbody tr th {\n",
       "        vertical-align: top;\n",
       "    }\n",
       "\n",
       "    .dataframe thead th {\n",
       "        text-align: right;\n",
       "    }\n",
       "</style>\n",
       "<table border=\"1\" class=\"dataframe\">\n",
       "  <thead>\n",
       "    <tr style=\"text-align: right;\">\n",
       "      <th></th>\n",
       "      <th>Brain Weight(grams)</th>\n",
       "    </tr>\n",
       "  </thead>\n",
       "  <tbody>\n",
       "    <tr>\n",
       "      <th>0</th>\n",
       "      <td>1530</td>\n",
       "    </tr>\n",
       "    <tr>\n",
       "      <th>1</th>\n",
       "      <td>1297</td>\n",
       "    </tr>\n",
       "    <tr>\n",
       "      <th>2</th>\n",
       "      <td>1335</td>\n",
       "    </tr>\n",
       "    <tr>\n",
       "      <th>3</th>\n",
       "      <td>1282</td>\n",
       "    </tr>\n",
       "    <tr>\n",
       "      <th>4</th>\n",
       "      <td>1590</td>\n",
       "    </tr>\n",
       "    <tr>\n",
       "      <th>...</th>\n",
       "      <td>...</td>\n",
       "    </tr>\n",
       "    <tr>\n",
       "      <th>232</th>\n",
       "      <td>1110</td>\n",
       "    </tr>\n",
       "    <tr>\n",
       "      <th>233</th>\n",
       "      <td>1215</td>\n",
       "    </tr>\n",
       "    <tr>\n",
       "      <th>234</th>\n",
       "      <td>1104</td>\n",
       "    </tr>\n",
       "    <tr>\n",
       "      <th>235</th>\n",
       "      <td>1170</td>\n",
       "    </tr>\n",
       "    <tr>\n",
       "      <th>236</th>\n",
       "      <td>1120</td>\n",
       "    </tr>\n",
       "  </tbody>\n",
       "</table>\n",
       "<p>237 rows × 1 columns</p>\n",
       "</div>"
      ],
      "text/plain": [
       "     Brain Weight(grams)\n",
       "0                   1530\n",
       "1                   1297\n",
       "2                   1335\n",
       "3                   1282\n",
       "4                   1590\n",
       "..                   ...\n",
       "232                 1110\n",
       "233                 1215\n",
       "234                 1104\n",
       "235                 1170\n",
       "236                 1120\n",
       "\n",
       "[237 rows x 1 columns]"
      ]
     },
     "execution_count": 68,
     "metadata": {},
     "output_type": "execute_result"
    }
   ],
   "source": [
    "y = df.iloc[:,-1:]\n",
    "y"
   ]
  },
  {
   "cell_type": "markdown",
   "id": "e4c0fbd0",
   "metadata": {},
   "source": [
    "## Applying SkLearn method for train and testing seperation"
   ]
  },
  {
   "cell_type": "code",
   "execution_count": 69,
   "id": "febc5f5d",
   "metadata": {},
   "outputs": [
    {
     "data": {
      "text/plain": [
       "((165, 3), (72, 3))"
      ]
     },
     "execution_count": 69,
     "metadata": {},
     "output_type": "execute_result"
    }
   ],
   "source": [
    "from sklearn.model_selection import train_test_split\n",
    "X_train,X_test,y_train,y_test=train_test_split(X,y,test_size=0.3,random_state=0)\n",
    "                                               \n",
    "X_train.shape,X_test.shape "
   ]
  },
  {
   "cell_type": "code",
   "execution_count": 70,
   "id": "05dae9af",
   "metadata": {},
   "outputs": [
    {
     "data": {
      "text/html": [
       "<div>\n",
       "<style scoped>\n",
       "    .dataframe tbody tr th:only-of-type {\n",
       "        vertical-align: middle;\n",
       "    }\n",
       "\n",
       "    .dataframe tbody tr th {\n",
       "        vertical-align: top;\n",
       "    }\n",
       "\n",
       "    .dataframe thead th {\n",
       "        text-align: right;\n",
       "    }\n",
       "</style>\n",
       "<table border=\"1\" class=\"dataframe\">\n",
       "  <thead>\n",
       "    <tr style=\"text-align: right;\">\n",
       "      <th></th>\n",
       "      <th>Gender</th>\n",
       "      <th>Age Range</th>\n",
       "      <th>Head Size(cm^3)</th>\n",
       "    </tr>\n",
       "  </thead>\n",
       "  <tbody>\n",
       "    <tr>\n",
       "      <th>66</th>\n",
       "      <td>1</td>\n",
       "      <td>2</td>\n",
       "      <td>3415</td>\n",
       "    </tr>\n",
       "    <tr>\n",
       "      <th>26</th>\n",
       "      <td>1</td>\n",
       "      <td>1</td>\n",
       "      <td>4036</td>\n",
       "    </tr>\n",
       "    <tr>\n",
       "      <th>76</th>\n",
       "      <td>1</td>\n",
       "      <td>2</td>\n",
       "      <td>3558</td>\n",
       "    </tr>\n",
       "    <tr>\n",
       "      <th>215</th>\n",
       "      <td>2</td>\n",
       "      <td>2</td>\n",
       "      <td>3156</td>\n",
       "    </tr>\n",
       "    <tr>\n",
       "      <th>210</th>\n",
       "      <td>2</td>\n",
       "      <td>2</td>\n",
       "      <td>2937</td>\n",
       "    </tr>\n",
       "    <tr>\n",
       "      <th>...</th>\n",
       "      <td>...</td>\n",
       "      <td>...</td>\n",
       "      <td>...</td>\n",
       "    </tr>\n",
       "    <tr>\n",
       "      <th>67</th>\n",
       "      <td>1</td>\n",
       "      <td>2</td>\n",
       "      <td>3372</td>\n",
       "    </tr>\n",
       "    <tr>\n",
       "      <th>192</th>\n",
       "      <td>2</td>\n",
       "      <td>2</td>\n",
       "      <td>3000</td>\n",
       "    </tr>\n",
       "    <tr>\n",
       "      <th>117</th>\n",
       "      <td>1</td>\n",
       "      <td>2</td>\n",
       "      <td>3900</td>\n",
       "    </tr>\n",
       "    <tr>\n",
       "      <th>47</th>\n",
       "      <td>1</td>\n",
       "      <td>1</td>\n",
       "      <td>3165</td>\n",
       "    </tr>\n",
       "    <tr>\n",
       "      <th>172</th>\n",
       "      <td>2</td>\n",
       "      <td>1</td>\n",
       "      <td>3571</td>\n",
       "    </tr>\n",
       "  </tbody>\n",
       "</table>\n",
       "<p>165 rows × 3 columns</p>\n",
       "</div>"
      ],
      "text/plain": [
       "     Gender  Age Range  Head Size(cm^3)\n",
       "66        1          2             3415\n",
       "26        1          1             4036\n",
       "76        1          2             3558\n",
       "215       2          2             3156\n",
       "210       2          2             2937\n",
       "..      ...        ...              ...\n",
       "67        1          2             3372\n",
       "192       2          2             3000\n",
       "117       1          2             3900\n",
       "47        1          1             3165\n",
       "172       2          1             3571\n",
       "\n",
       "[165 rows x 3 columns]"
      ]
     },
     "execution_count": 70,
     "metadata": {},
     "output_type": "execute_result"
    }
   ],
   "source": [
    "X_train"
   ]
  },
  {
   "cell_type": "code",
   "execution_count": 71,
   "id": "99bddb2f",
   "metadata": {},
   "outputs": [
    {
     "data": {
      "text/html": [
       "<div>\n",
       "<style scoped>\n",
       "    .dataframe tbody tr th:only-of-type {\n",
       "        vertical-align: middle;\n",
       "    }\n",
       "\n",
       "    .dataframe tbody tr th {\n",
       "        vertical-align: top;\n",
       "    }\n",
       "\n",
       "    .dataframe thead th {\n",
       "        text-align: right;\n",
       "    }\n",
       "</style>\n",
       "<table border=\"1\" class=\"dataframe\">\n",
       "  <thead>\n",
       "    <tr style=\"text-align: right;\">\n",
       "      <th></th>\n",
       "      <th>Gender</th>\n",
       "      <th>Age Range</th>\n",
       "      <th>Head Size(cm^3)</th>\n",
       "    </tr>\n",
       "  </thead>\n",
       "  <tbody>\n",
       "    <tr>\n",
       "      <th>173</th>\n",
       "      <td>2</td>\n",
       "      <td>1</td>\n",
       "      <td>3724</td>\n",
       "    </tr>\n",
       "    <tr>\n",
       "      <th>152</th>\n",
       "      <td>2</td>\n",
       "      <td>1</td>\n",
       "      <td>3680</td>\n",
       "    </tr>\n",
       "    <tr>\n",
       "      <th>106</th>\n",
       "      <td>1</td>\n",
       "      <td>2</td>\n",
       "      <td>4032</td>\n",
       "    </tr>\n",
       "    <tr>\n",
       "      <th>111</th>\n",
       "      <td>1</td>\n",
       "      <td>2</td>\n",
       "      <td>3524</td>\n",
       "    </tr>\n",
       "    <tr>\n",
       "      <th>125</th>\n",
       "      <td>1</td>\n",
       "      <td>2</td>\n",
       "      <td>3782</td>\n",
       "    </tr>\n",
       "    <tr>\n",
       "      <th>...</th>\n",
       "      <td>...</td>\n",
       "      <td>...</td>\n",
       "      <td>...</td>\n",
       "    </tr>\n",
       "    <tr>\n",
       "      <th>4</th>\n",
       "      <td>1</td>\n",
       "      <td>1</td>\n",
       "      <td>4177</td>\n",
       "    </tr>\n",
       "    <tr>\n",
       "      <th>104</th>\n",
       "      <td>1</td>\n",
       "      <td>2</td>\n",
       "      <td>3618</td>\n",
       "    </tr>\n",
       "    <tr>\n",
       "      <th>61</th>\n",
       "      <td>1</td>\n",
       "      <td>2</td>\n",
       "      <td>3393</td>\n",
       "    </tr>\n",
       "    <tr>\n",
       "      <th>159</th>\n",
       "      <td>2</td>\n",
       "      <td>1</td>\n",
       "      <td>3269</td>\n",
       "    </tr>\n",
       "    <tr>\n",
       "      <th>52</th>\n",
       "      <td>1</td>\n",
       "      <td>1</td>\n",
       "      <td>4270</td>\n",
       "    </tr>\n",
       "  </tbody>\n",
       "</table>\n",
       "<p>72 rows × 3 columns</p>\n",
       "</div>"
      ],
      "text/plain": [
       "     Gender  Age Range  Head Size(cm^3)\n",
       "173       2          1             3724\n",
       "152       2          1             3680\n",
       "106       1          2             4032\n",
       "111       1          2             3524\n",
       "125       1          2             3782\n",
       "..      ...        ...              ...\n",
       "4         1          1             4177\n",
       "104       1          2             3618\n",
       "61        1          2             3393\n",
       "159       2          1             3269\n",
       "52        1          1             4270\n",
       "\n",
       "[72 rows x 3 columns]"
      ]
     },
     "execution_count": 71,
     "metadata": {},
     "output_type": "execute_result"
    }
   ],
   "source": [
    "X_test"
   ]
  },
  {
   "cell_type": "code",
   "execution_count": 72,
   "id": "1432a869",
   "metadata": {},
   "outputs": [
    {
     "data": {
      "text/html": [
       "<div>\n",
       "<style scoped>\n",
       "    .dataframe tbody tr th:only-of-type {\n",
       "        vertical-align: middle;\n",
       "    }\n",
       "\n",
       "    .dataframe tbody tr th {\n",
       "        vertical-align: top;\n",
       "    }\n",
       "\n",
       "    .dataframe thead th {\n",
       "        text-align: right;\n",
       "    }\n",
       "</style>\n",
       "<table border=\"1\" class=\"dataframe\">\n",
       "  <thead>\n",
       "    <tr style=\"text-align: right;\">\n",
       "      <th></th>\n",
       "      <th>Brain Weight(grams)</th>\n",
       "    </tr>\n",
       "  </thead>\n",
       "  <tbody>\n",
       "    <tr>\n",
       "      <th>66</th>\n",
       "      <td>1310</td>\n",
       "    </tr>\n",
       "    <tr>\n",
       "      <th>26</th>\n",
       "      <td>1490</td>\n",
       "    </tr>\n",
       "    <tr>\n",
       "      <th>76</th>\n",
       "      <td>1225</td>\n",
       "    </tr>\n",
       "    <tr>\n",
       "      <th>215</th>\n",
       "      <td>1225</td>\n",
       "    </tr>\n",
       "    <tr>\n",
       "      <th>210</th>\n",
       "      <td>1070</td>\n",
       "    </tr>\n",
       "    <tr>\n",
       "      <th>...</th>\n",
       "      <td>...</td>\n",
       "    </tr>\n",
       "    <tr>\n",
       "      <th>67</th>\n",
       "      <td>1154</td>\n",
       "    </tr>\n",
       "    <tr>\n",
       "      <th>192</th>\n",
       "      <td>1090</td>\n",
       "    </tr>\n",
       "    <tr>\n",
       "      <th>117</th>\n",
       "      <td>1270</td>\n",
       "    </tr>\n",
       "    <tr>\n",
       "      <th>47</th>\n",
       "      <td>1215</td>\n",
       "    </tr>\n",
       "    <tr>\n",
       "      <th>172</th>\n",
       "      <td>1316</td>\n",
       "    </tr>\n",
       "  </tbody>\n",
       "</table>\n",
       "<p>165 rows × 1 columns</p>\n",
       "</div>"
      ],
      "text/plain": [
       "     Brain Weight(grams)\n",
       "66                  1310\n",
       "26                  1490\n",
       "76                  1225\n",
       "215                 1225\n",
       "210                 1070\n",
       "..                   ...\n",
       "67                  1154\n",
       "192                 1090\n",
       "117                 1270\n",
       "47                  1215\n",
       "172                 1316\n",
       "\n",
       "[165 rows x 1 columns]"
      ]
     },
     "execution_count": 72,
     "metadata": {},
     "output_type": "execute_result"
    }
   ],
   "source": [
    "y_train"
   ]
  },
  {
   "cell_type": "code",
   "execution_count": 73,
   "id": "62e57ad8",
   "metadata": {},
   "outputs": [
    {
     "data": {
      "text/html": [
       "<div>\n",
       "<style scoped>\n",
       "    .dataframe tbody tr th:only-of-type {\n",
       "        vertical-align: middle;\n",
       "    }\n",
       "\n",
       "    .dataframe tbody tr th {\n",
       "        vertical-align: top;\n",
       "    }\n",
       "\n",
       "    .dataframe thead th {\n",
       "        text-align: right;\n",
       "    }\n",
       "</style>\n",
       "<table border=\"1\" class=\"dataframe\">\n",
       "  <thead>\n",
       "    <tr style=\"text-align: right;\">\n",
       "      <th></th>\n",
       "      <th>Brain Weight(grams)</th>\n",
       "    </tr>\n",
       "  </thead>\n",
       "  <tbody>\n",
       "    <tr>\n",
       "      <th>173</th>\n",
       "      <td>1280</td>\n",
       "    </tr>\n",
       "    <tr>\n",
       "      <th>152</th>\n",
       "      <td>1321</td>\n",
       "    </tr>\n",
       "    <tr>\n",
       "      <th>106</th>\n",
       "      <td>1425</td>\n",
       "    </tr>\n",
       "    <tr>\n",
       "      <th>111</th>\n",
       "      <td>1250</td>\n",
       "    </tr>\n",
       "    <tr>\n",
       "      <th>125</th>\n",
       "      <td>1350</td>\n",
       "    </tr>\n",
       "    <tr>\n",
       "      <th>...</th>\n",
       "      <td>...</td>\n",
       "    </tr>\n",
       "    <tr>\n",
       "      <th>4</th>\n",
       "      <td>1590</td>\n",
       "    </tr>\n",
       "    <tr>\n",
       "      <th>104</th>\n",
       "      <td>1290</td>\n",
       "    </tr>\n",
       "    <tr>\n",
       "      <th>61</th>\n",
       "      <td>1175</td>\n",
       "    </tr>\n",
       "    <tr>\n",
       "      <th>159</th>\n",
       "      <td>1241</td>\n",
       "    </tr>\n",
       "    <tr>\n",
       "      <th>52</th>\n",
       "      <td>1335</td>\n",
       "    </tr>\n",
       "  </tbody>\n",
       "</table>\n",
       "<p>72 rows × 1 columns</p>\n",
       "</div>"
      ],
      "text/plain": [
       "     Brain Weight(grams)\n",
       "173                 1280\n",
       "152                 1321\n",
       "106                 1425\n",
       "111                 1250\n",
       "125                 1350\n",
       "..                   ...\n",
       "4                   1590\n",
       "104                 1290\n",
       "61                  1175\n",
       "159                 1241\n",
       "52                  1335\n",
       "\n",
       "[72 rows x 1 columns]"
      ]
     },
     "execution_count": 73,
     "metadata": {},
     "output_type": "execute_result"
    }
   ],
   "source": [
    "y_test"
   ]
  },
  {
   "cell_type": "markdown",
   "id": "787e8ed0",
   "metadata": {},
   "source": [
    "## Applying Feature Scaling method Standardization for sacale our features"
   ]
  },
  {
   "cell_type": "code",
   "execution_count": 74,
   "id": "64688a77",
   "metadata": {},
   "outputs": [],
   "source": [
    "from sklearn.preprocessing import StandardScaler"
   ]
  },
  {
   "cell_type": "code",
   "execution_count": 75,
   "id": "f7225dc6",
   "metadata": {},
   "outputs": [
    {
     "data": {
      "text/plain": [
       "array([1.42424242e+00, 1.54545455e+00, 3.64791515e+03])"
      ]
     },
     "execution_count": 75,
     "metadata": {},
     "output_type": "execute_result"
    }
   ],
   "source": [
    "scaler = StandardScaler()\n",
    "scaler.fit(X_train)\n",
    "x_train_scaled = scaler.transform(X_train)\n",
    "x_test_scaled  = scaler.transform(X_test)\n",
    "scaler.mean_"
   ]
  },
  {
   "cell_type": "code",
   "execution_count": 76,
   "id": "de558b39",
   "metadata": {},
   "outputs": [
    {
     "data": {
      "text/plain": [
       "array([[-8.58395075e-01,  9.12870929e-01, -6.37635646e-01],\n",
       "       [-8.58395075e-01, -1.09544512e+00,  1.06243296e+00],\n",
       "       [-8.58395075e-01,  9.12870929e-01, -2.46154470e-01],\n",
       "       [ 1.16496475e+00,  9.12870929e-01, -1.34668197e+00],\n",
       "       [ 1.16496475e+00,  9.12870929e-01, -1.94622307e+00],\n",
       "       [-8.58395075e-01, -1.09544512e+00,  8.59848293e-01],\n",
       "       [-8.58395075e-01, -1.09544512e+00,  1.53330542e+00],\n",
       "       [-8.58395075e-01, -1.09544512e+00,  3.53386631e-01],\n",
       "       [ 1.16496475e+00, -1.09544512e+00, -9.46987904e-01],\n",
       "       [-8.58395075e-01, -1.09544512e+00,  3.00888831e+00],\n",
       "       [-8.58395075e-01, -1.09544512e+00,  3.80762937e-01],\n",
       "       [ 1.16496475e+00,  9.12870929e-01,  2.38406146e-01],\n",
       "       [-8.58395075e-01,  9.12870929e-01,  5.97035755e-01],\n",
       "       [-8.58395075e-01, -1.09544512e+00,  6.62738889e-01],\n",
       "       [-8.58395075e-01,  9.12870929e-01, -1.80451336e-01],\n",
       "       [-8.58395075e-01,  9.12870929e-01,  1.28900922e-01],\n",
       "       [-8.58395075e-01, -1.09544512e+00,  2.12463363e+00],\n",
       "       [ 1.16496475e+00, -1.09544512e+00, -1.06535310e-01],\n",
       "       [-8.58395075e-01,  9.12870929e-01,  1.10349742e+00],\n",
       "       [-8.58395075e-01, -1.09544512e+00,  9.96729823e-01],\n",
       "       [ 1.16496475e+00,  9.12870929e-01,  1.50801967e-01],\n",
       "       [-8.58395075e-01,  9.12870929e-01,  4.98481053e-01],\n",
       "       [-8.58395075e-01, -1.09544512e+00,  3.97188721e-01],\n",
       "       [ 1.16496475e+00, -1.09544512e+00,  9.80304039e-01],\n",
       "       [ 1.16496475e+00, -1.09544512e+00, -2.73530776e-01],\n",
       "       [ 1.16496475e+00, -1.09544512e+00,  5.61446557e-01],\n",
       "       [-8.58395075e-01,  9.12870929e-01, -9.27824490e-01],\n",
       "       [-8.58395075e-01,  9.12870929e-01, -9.28471566e-02],\n",
       "       [ 1.16496475e+00,  9.12870929e-01, -7.88205329e-01],\n",
       "       [ 1.16496475e+00,  9.12870929e-01,  1.53539597e-01],\n",
       "       [ 1.16496475e+00, -1.09544512e+00, -2.24253426e-01],\n",
       "       [-8.58395075e-01, -1.09544512e+00, -3.91248892e-01],\n",
       "       [-8.58395075e-01, -1.09544512e+00,  5.03956314e-01],\n",
       "       [-8.58395075e-01, -1.09544512e+00,  1.02410613e+00],\n",
       "       [-8.58395075e-01, -1.09544512e+00,  6.65476520e-01],\n",
       "       [ 1.16496475e+00,  9.12870929e-01, -1.69500813e-01],\n",
       "       [-8.58395075e-01, -1.09544512e+00,  6.29887322e-01],\n",
       "       [ 1.16496475e+00, -1.09544512e+00,  1.61752489e-01],\n",
       "       [-8.58395075e-01, -1.09544512e+00,  1.80706848e+00],\n",
       "       [ 1.16496475e+00, -1.09544512e+00,  3.58861893e-01],\n",
       "       [ 1.16496475e+00,  9.12870929e-01, -1.18789940e+00],\n",
       "       [ 1.16496475e+00, -1.09544512e+00,  3.91713460e-01],\n",
       "       [ 1.16496475e+00,  9.12870929e-01, -1.80386628e+00],\n",
       "       [-8.58395075e-01,  9.12870929e-01,  2.17391098e+00],\n",
       "       [-8.58395075e-01,  9.12870929e-01,  4.95096346e-02],\n",
       "       [-8.58395075e-01, -1.09544512e+00,  1.67839984e+00],\n",
       "       [-8.58395075e-01,  9.12870929e-01,  5.77225264e-02],\n",
       "       [ 1.16496475e+00, -1.09544512e+00,  6.98328087e-01],\n",
       "       [ 1.16496475e+00,  9.12870929e-01, -7.30715087e-01],\n",
       "       [-8.58395075e-01, -1.09544512e+00,  4.27302658e-01],\n",
       "       [ 1.16496475e+00,  9.12870929e-01, -8.04631113e-01],\n",
       "       [-8.58395075e-01, -1.09544512e+00, -5.60981990e-01],\n",
       "       [ 1.16496475e+00, -1.09544512e+00, -5.80145404e-01],\n",
       "       [-8.58395075e-01,  9.12870929e-01,  1.11992320e+00],\n",
       "       [ 1.16496475e+00,  9.12870929e-01,  1.52235490e+00],\n",
       "       [ 1.16496475e+00,  9.12870929e-01,  1.01524616e-01],\n",
       "       [-8.58395075e-01,  9.12870929e-01, -2.10565273e-01],\n",
       "       [ 1.16496475e+00, -1.09544512e+00, -3.96724153e-01],\n",
       "       [-8.58395075e-01,  9.12870929e-01,  1.66580674e-02],\n",
       "       [-8.58395075e-01,  9.12870929e-01,  6.87377565e-01],\n",
       "       [ 1.16496475e+00, -1.09544512e+00, -1.34668197e+00],\n",
       "       [ 1.16496475e+00,  9.12870929e-01, -9.96265255e-01],\n",
       "       [-8.58395075e-01,  9.12870929e-01, -1.47599769e-01],\n",
       "       [-8.58395075e-01, -1.09544512e+00,  2.36554512e+00],\n",
       "       [-8.58395075e-01,  9.12870929e-01,  1.42589075e-01],\n",
       "       [-8.58395075e-01,  9.12870929e-01,  3.58861893e-01],\n",
       "       [-8.58395075e-01,  9.12870929e-01,  2.00691551e+00],\n",
       "       [-8.58395075e-01, -1.09544512e+00, -1.07182386e-02],\n",
       "       [-8.58395075e-01, -1.09544512e+00, -1.89311304e-02],\n",
       "       [-8.58395075e-01,  9.12870929e-01,  5.53233665e-01],\n",
       "       [ 1.16496475e+00,  9.12870929e-01, -1.13588442e+00],\n",
       "       [ 1.16496475e+00, -1.09544512e+00, -3.22808127e-01],\n",
       "       [-8.58395075e-01, -1.09544512e+00,  1.69965381e-01],\n",
       "       [ 1.16496475e+00, -1.09544512e+00, -5.74670143e-01],\n",
       "       [-8.58395075e-01,  9.12870929e-01,  7.72244113e-01],\n",
       "       [-8.58395075e-01,  9.12870929e-01, -4.18625198e-01],\n",
       "       [-8.58395075e-01,  9.12870929e-01, -3.17332866e-01],\n",
       "       [ 1.16496475e+00,  9.12870929e-01, -1.32204330e+00],\n",
       "       [ 1.16496475e+00,  9.12870929e-01, -8.10106374e-01],\n",
       "       [-8.58395075e-01, -1.09544512e+00,  3.75287676e-01],\n",
       "       [-8.58395075e-01,  9.12870929e-01,  2.14105941e+00],\n",
       "       [-8.58395075e-01,  9.12870929e-01,  7.80457005e-01],\n",
       "       [-8.58395075e-01,  9.12870929e-01,  1.51140438e+00],\n",
       "       [ 1.16496475e+00,  9.12870929e-01, -2.14607011e+00],\n",
       "       [ 1.16496475e+00, -1.09544512e+00,  9.06388013e-01],\n",
       "       [ 1.16496475e+00,  9.12870929e-01, -1.14957257e+00],\n",
       "       [ 1.16496475e+00,  9.12870929e-01, -1.61496977e+00],\n",
       "       [ 1.16496475e+00, -1.09544512e+00,  1.12475138e-01],\n",
       "       [-8.58395075e-01,  9.12870929e-01, -9.03185815e-01],\n",
       "       [ 1.16496475e+00,  9.12870929e-01, -1.01542867e+00],\n",
       "       [-8.58395075e-01, -1.09544512e+00,  9.44714841e-01],\n",
       "       [-8.58395075e-01,  9.12870929e-01,  7.91407528e-01],\n",
       "       [-8.58395075e-01,  9.12870929e-01,  6.24412061e-01],\n",
       "       [-8.58395075e-01, -1.09544512e+00,  4.54678964e-01],\n",
       "       [-8.58395075e-01,  9.12870929e-01,  1.41832494e+00],\n",
       "       [-8.58395075e-01,  9.12870929e-01, -8.73071878e-01],\n",
       "       [-8.58395075e-01, -1.09544512e+00,  2.46619038e-01],\n",
       "       [-8.58395075e-01,  9.12870929e-01, -6.81437736e-01],\n",
       "       [ 1.16496475e+00,  9.12870929e-01, -6.95125889e-01],\n",
       "       [-8.58395075e-01, -1.09544512e+00,  1.82623190e+00],\n",
       "       [-8.58395075e-01,  9.12870929e-01,  2.32283809e-04],\n",
       "       [-8.58395075e-01,  9.12870929e-01,  1.08980926e+00],\n",
       "       [ 1.16496475e+00,  9.12870929e-01,  1.20688030e-01],\n",
       "       [-8.58395075e-01, -1.09544512e+00, -4.98016486e-01],\n",
       "       [-8.58395075e-01, -1.09544512e+00, -8.59383725e-01],\n",
       "       [-8.58395075e-01,  9.12870929e-01,  5.22472652e-02],\n",
       "       [-8.58395075e-01, -1.09544512e+00,  1.13634898e+00],\n",
       "       [ 1.16496475e+00, -1.09544512e+00, -4.13149937e-01],\n",
       "       [ 1.16496475e+00, -1.09544512e+00, -1.34120671e+00],\n",
       "       [-8.58395075e-01,  9.12870929e-01,  1.10897268e+00],\n",
       "       [-8.58395075e-01, -1.09544512e+00,  1.39642389e+00],\n",
       "       [-8.58395075e-01, -1.09544512e+00, -5.30868053e-01],\n",
       "       [ 1.16496475e+00, -1.09544512e+00, -1.27824121e+00],\n",
       "       [-8.58395075e-01,  9.12870929e-01, -7.25239826e-01],\n",
       "       [ 1.16496475e+00, -1.09544512e+00, -9.74364210e-01],\n",
       "       [ 1.16496475e+00, -1.09544512e+00, -8.89497662e-01],\n",
       "       [-8.58395075e-01, -1.09544512e+00,  4.05401613e-01],\n",
       "       [ 1.16496475e+00,  9.12870929e-01, -2.51629732e-01],\n",
       "       [-8.58395075e-01,  9.12870929e-01, -1.43428615e+00],\n",
       "       [ 1.16496475e+00, -1.09544512e+00, -1.61934998e-02],\n",
       "       [ 1.16496475e+00,  9.12870929e-01, -2.54028891e+00],\n",
       "       [ 1.16496475e+00,  9.12870929e-01, -7.08814042e-01],\n",
       "       [-8.58395075e-01, -1.09544512e+00,  1.24585421e+00],\n",
       "       [ 1.16496475e+00, -1.09544512e+00, -7.93680591e-01],\n",
       "       [ 1.16496475e+00, -1.09544512e+00, -1.29466699e+00],\n",
       "       [ 1.16496475e+00,  9.12870929e-01, -4.24100459e-01],\n",
       "       [ 1.16496475e+00, -1.09544512e+00, -1.04280498e+00],\n",
       "       [-8.58395075e-01, -1.09544512e+00,  1.44296361e+00],\n",
       "       [ 1.16496475e+00, -1.09544512e+00, -2.37941579e-01],\n",
       "       [-8.58395075e-01,  9.12870929e-01, -4.65164918e-01],\n",
       "       [-8.58395075e-01,  9.12870929e-01, -1.09208233e+00],\n",
       "       [ 1.16496475e+00,  9.12870929e-01, -6.95125889e-01],\n",
       "       [ 1.16496475e+00, -1.09544512e+00, -1.21801333e+00],\n",
       "       [-8.58395075e-01,  9.12870929e-01,  5.12169206e-01],\n",
       "       [ 1.16496475e+00,  9.12870929e-01, -8.32007419e-01],\n",
       "       [-8.58395075e-01,  9.12870929e-01, -4.07674676e-01],\n",
       "       [ 1.16496475e+00, -1.09544512e+00, -5.39080945e-01],\n",
       "       [ 1.16496475e+00,  9.12870929e-01, -1.17694887e+00],\n",
       "       [-8.58395075e-01,  9.12870929e-01,  1.29513156e+00],\n",
       "       [-8.58395075e-01,  9.12870929e-01, -7.82730068e-01],\n",
       "       [-8.58395075e-01, -1.09544512e+00,  2.12189600e+00],\n",
       "       [ 1.16496475e+00, -1.09544512e+00, -1.54926664e+00],\n",
       "       [-8.58395075e-01,  9.12870929e-01,  5.69659449e-01],\n",
       "       [ 1.16496475e+00,  9.12870929e-01,  2.52094299e-01],\n",
       "       [ 1.16496475e+00, -1.09544512e+00, -9.01095260e-02],\n",
       "       [ 1.16496475e+00,  9.12870929e-01,  1.86391165e-01],\n",
       "       [-8.58395075e-01, -1.09544512e+00, -4.26838090e-01],\n",
       "       [ 1.16496475e+00,  9.12870929e-01,  1.06999877e-01],\n",
       "       [-8.58395075e-01,  9.12870929e-01,  7.85932266e-01],\n",
       "       [ 1.16496475e+00, -1.09544512e+00, -2.07827642e-01],\n",
       "       [-8.58395075e-01,  9.12870929e-01, -3.88511262e-01],\n",
       "       [ 1.16496475e+00,  9.12870929e-01, -1.10029522e+00],\n",
       "       [-8.58395075e-01,  9.12870929e-01,  9.85779300e-01],\n",
       "       [-8.58395075e-01,  9.12870929e-01, -6.62274322e-01],\n",
       "       [-8.58395075e-01, -1.09544512e+00, -3.31021019e-01],\n",
       "       [-8.58395075e-01, -1.09544512e+00,  1.08980926e+00],\n",
       "       [ 1.16496475e+00,  9.12870929e-01, -1.85926597e-01],\n",
       "       [-8.58395075e-01, -1.09544512e+00,  9.14600905e-01],\n",
       "       [-8.58395075e-01,  9.12870929e-01,  3.58214816e-02],\n",
       "       [ 1.16496475e+00,  9.12870929e-01, -2.39519449e+00],\n",
       "       [-8.58395075e-01,  9.12870929e-01, -7.55353762e-01],\n",
       "       [ 1.16496475e+00,  9.12870929e-01, -1.77375235e+00],\n",
       "       [-8.58395075e-01,  9.12870929e-01,  6.90115195e-01],\n",
       "       [-8.58395075e-01, -1.09544512e+00, -1.32204330e+00],\n",
       "       [ 1.16496475e+00, -1.09544512e+00, -2.10565273e-01]])"
      ]
     },
     "execution_count": 76,
     "metadata": {},
     "output_type": "execute_result"
    }
   ],
   "source": [
    "x_train_scaled"
   ]
  },
  {
   "cell_type": "markdown",
   "id": "ad44a78a",
   "metadata": {},
   "source": [
    "### Here we're making dataframe b'cause StandardScaler does covert our column into array"
   ]
  },
  {
   "cell_type": "code",
   "execution_count": 77,
   "id": "8eecfb92",
   "metadata": {},
   "outputs": [],
   "source": [
    "x_train_scaled = pd.DataFrame(x_train_scaled, columns=X_train.columns)\n",
    "x_test_scaled = pd.DataFrame(x_test_scaled, columns=X_test.columns)"
   ]
  },
  {
   "cell_type": "markdown",
   "id": "cc4d2340",
   "metadata": {},
   "source": [
    "## Now our data in same scale"
   ]
  },
  {
   "cell_type": "code",
   "execution_count": 78,
   "id": "9e4587ff",
   "metadata": {},
   "outputs": [
    {
     "data": {
      "text/html": [
       "<div>\n",
       "<style scoped>\n",
       "    .dataframe tbody tr th:only-of-type {\n",
       "        vertical-align: middle;\n",
       "    }\n",
       "\n",
       "    .dataframe tbody tr th {\n",
       "        vertical-align: top;\n",
       "    }\n",
       "\n",
       "    .dataframe thead th {\n",
       "        text-align: right;\n",
       "    }\n",
       "</style>\n",
       "<table border=\"1\" class=\"dataframe\">\n",
       "  <thead>\n",
       "    <tr style=\"text-align: right;\">\n",
       "      <th></th>\n",
       "      <th>Gender</th>\n",
       "      <th>Age Range</th>\n",
       "      <th>Head Size(cm^3)</th>\n",
       "    </tr>\n",
       "  </thead>\n",
       "  <tbody>\n",
       "    <tr>\n",
       "      <th>0</th>\n",
       "      <td>-0.858395</td>\n",
       "      <td>0.912871</td>\n",
       "      <td>-0.637636</td>\n",
       "    </tr>\n",
       "    <tr>\n",
       "      <th>1</th>\n",
       "      <td>-0.858395</td>\n",
       "      <td>-1.095445</td>\n",
       "      <td>1.062433</td>\n",
       "    </tr>\n",
       "    <tr>\n",
       "      <th>2</th>\n",
       "      <td>-0.858395</td>\n",
       "      <td>0.912871</td>\n",
       "      <td>-0.246154</td>\n",
       "    </tr>\n",
       "    <tr>\n",
       "      <th>3</th>\n",
       "      <td>1.164965</td>\n",
       "      <td>0.912871</td>\n",
       "      <td>-1.346682</td>\n",
       "    </tr>\n",
       "    <tr>\n",
       "      <th>4</th>\n",
       "      <td>1.164965</td>\n",
       "      <td>0.912871</td>\n",
       "      <td>-1.946223</td>\n",
       "    </tr>\n",
       "    <tr>\n",
       "      <th>...</th>\n",
       "      <td>...</td>\n",
       "      <td>...</td>\n",
       "      <td>...</td>\n",
       "    </tr>\n",
       "    <tr>\n",
       "      <th>160</th>\n",
       "      <td>-0.858395</td>\n",
       "      <td>0.912871</td>\n",
       "      <td>-0.755354</td>\n",
       "    </tr>\n",
       "    <tr>\n",
       "      <th>161</th>\n",
       "      <td>1.164965</td>\n",
       "      <td>0.912871</td>\n",
       "      <td>-1.773752</td>\n",
       "    </tr>\n",
       "    <tr>\n",
       "      <th>162</th>\n",
       "      <td>-0.858395</td>\n",
       "      <td>0.912871</td>\n",
       "      <td>0.690115</td>\n",
       "    </tr>\n",
       "    <tr>\n",
       "      <th>163</th>\n",
       "      <td>-0.858395</td>\n",
       "      <td>-1.095445</td>\n",
       "      <td>-1.322043</td>\n",
       "    </tr>\n",
       "    <tr>\n",
       "      <th>164</th>\n",
       "      <td>1.164965</td>\n",
       "      <td>-1.095445</td>\n",
       "      <td>-0.210565</td>\n",
       "    </tr>\n",
       "  </tbody>\n",
       "</table>\n",
       "<p>165 rows × 3 columns</p>\n",
       "</div>"
      ],
      "text/plain": [
       "       Gender  Age Range  Head Size(cm^3)\n",
       "0   -0.858395   0.912871        -0.637636\n",
       "1   -0.858395  -1.095445         1.062433\n",
       "2   -0.858395   0.912871        -0.246154\n",
       "3    1.164965   0.912871        -1.346682\n",
       "4    1.164965   0.912871        -1.946223\n",
       "..        ...        ...              ...\n",
       "160 -0.858395   0.912871        -0.755354\n",
       "161  1.164965   0.912871        -1.773752\n",
       "162 -0.858395   0.912871         0.690115\n",
       "163 -0.858395  -1.095445        -1.322043\n",
       "164  1.164965  -1.095445        -0.210565\n",
       "\n",
       "[165 rows x 3 columns]"
      ]
     },
     "execution_count": 78,
     "metadata": {},
     "output_type": "execute_result"
    }
   ],
   "source": [
    "x_train_scaled"
   ]
  },
  {
   "cell_type": "code",
   "execution_count": 79,
   "id": "2d778d8d",
   "metadata": {},
   "outputs": [
    {
     "data": {
      "text/html": [
       "<div>\n",
       "<style scoped>\n",
       "    .dataframe tbody tr th:only-of-type {\n",
       "        vertical-align: middle;\n",
       "    }\n",
       "\n",
       "    .dataframe tbody tr th {\n",
       "        vertical-align: top;\n",
       "    }\n",
       "\n",
       "    .dataframe thead th {\n",
       "        text-align: right;\n",
       "    }\n",
       "</style>\n",
       "<table border=\"1\" class=\"dataframe\">\n",
       "  <thead>\n",
       "    <tr style=\"text-align: right;\">\n",
       "      <th></th>\n",
       "      <th>Gender</th>\n",
       "      <th>Age Range</th>\n",
       "      <th>Head Size(cm^3)</th>\n",
       "    </tr>\n",
       "  </thead>\n",
       "  <tbody>\n",
       "    <tr>\n",
       "      <th>0</th>\n",
       "      <td>1.164965</td>\n",
       "      <td>-1.095445</td>\n",
       "      <td>0.208292</td>\n",
       "    </tr>\n",
       "    <tr>\n",
       "      <th>1</th>\n",
       "      <td>1.164965</td>\n",
       "      <td>-1.095445</td>\n",
       "      <td>0.087836</td>\n",
       "    </tr>\n",
       "    <tr>\n",
       "      <th>2</th>\n",
       "      <td>-0.858395</td>\n",
       "      <td>0.912871</td>\n",
       "      <td>1.051482</td>\n",
       "    </tr>\n",
       "    <tr>\n",
       "      <th>3</th>\n",
       "      <td>-0.858395</td>\n",
       "      <td>0.912871</td>\n",
       "      <td>-0.339234</td>\n",
       "    </tr>\n",
       "    <tr>\n",
       "      <th>4</th>\n",
       "      <td>-0.858395</td>\n",
       "      <td>0.912871</td>\n",
       "      <td>0.367075</td>\n",
       "    </tr>\n",
       "    <tr>\n",
       "      <th>...</th>\n",
       "      <td>...</td>\n",
       "      <td>...</td>\n",
       "      <td>...</td>\n",
       "    </tr>\n",
       "    <tr>\n",
       "      <th>67</th>\n",
       "      <td>-0.858395</td>\n",
       "      <td>-1.095445</td>\n",
       "      <td>1.448439</td>\n",
       "    </tr>\n",
       "    <tr>\n",
       "      <th>68</th>\n",
       "      <td>-0.858395</td>\n",
       "      <td>0.912871</td>\n",
       "      <td>-0.081897</td>\n",
       "    </tr>\n",
       "    <tr>\n",
       "      <th>69</th>\n",
       "      <td>-0.858395</td>\n",
       "      <td>0.912871</td>\n",
       "      <td>-0.697864</td>\n",
       "    </tr>\n",
       "    <tr>\n",
       "      <th>70</th>\n",
       "      <td>1.164965</td>\n",
       "      <td>-1.095445</td>\n",
       "      <td>-1.037330</td>\n",
       "    </tr>\n",
       "    <tr>\n",
       "      <th>71</th>\n",
       "      <td>-0.858395</td>\n",
       "      <td>-1.095445</td>\n",
       "      <td>1.703039</td>\n",
       "    </tr>\n",
       "  </tbody>\n",
       "</table>\n",
       "<p>72 rows × 3 columns</p>\n",
       "</div>"
      ],
      "text/plain": [
       "      Gender  Age Range  Head Size(cm^3)\n",
       "0   1.164965  -1.095445         0.208292\n",
       "1   1.164965  -1.095445         0.087836\n",
       "2  -0.858395   0.912871         1.051482\n",
       "3  -0.858395   0.912871        -0.339234\n",
       "4  -0.858395   0.912871         0.367075\n",
       "..       ...        ...              ...\n",
       "67 -0.858395  -1.095445         1.448439\n",
       "68 -0.858395   0.912871        -0.081897\n",
       "69 -0.858395   0.912871        -0.697864\n",
       "70  1.164965  -1.095445        -1.037330\n",
       "71 -0.858395  -1.095445         1.703039\n",
       "\n",
       "[72 rows x 3 columns]"
      ]
     },
     "execution_count": 79,
     "metadata": {},
     "output_type": "execute_result"
    }
   ],
   "source": [
    "x_test_scaled"
   ]
  },
  {
   "cell_type": "code",
   "execution_count": 80,
   "id": "deff0bc8",
   "metadata": {},
   "outputs": [
    {
     "data": {
      "text/plain": [
       "(72, 3)"
      ]
     },
     "execution_count": 80,
     "metadata": {},
     "output_type": "execute_result"
    }
   ],
   "source": [
    "x_test_scaled.shape"
   ]
  },
  {
   "cell_type": "code",
   "execution_count": 81,
   "id": "fe66a00e",
   "metadata": {},
   "outputs": [
    {
     "data": {
      "text/html": [
       "<div>\n",
       "<style scoped>\n",
       "    .dataframe tbody tr th:only-of-type {\n",
       "        vertical-align: middle;\n",
       "    }\n",
       "\n",
       "    .dataframe tbody tr th {\n",
       "        vertical-align: top;\n",
       "    }\n",
       "\n",
       "    .dataframe thead th {\n",
       "        text-align: right;\n",
       "    }\n",
       "</style>\n",
       "<table border=\"1\" class=\"dataframe\">\n",
       "  <thead>\n",
       "    <tr style=\"text-align: right;\">\n",
       "      <th></th>\n",
       "      <th>Gender</th>\n",
       "      <th>Age Range</th>\n",
       "      <th>Head Size(cm^3)</th>\n",
       "    </tr>\n",
       "  </thead>\n",
       "  <tbody>\n",
       "    <tr>\n",
       "      <th>count</th>\n",
       "      <td>165.0</td>\n",
       "      <td>165.0</td>\n",
       "      <td>165.0</td>\n",
       "    </tr>\n",
       "    <tr>\n",
       "      <th>mean</th>\n",
       "      <td>1.4</td>\n",
       "      <td>1.5</td>\n",
       "      <td>3647.9</td>\n",
       "    </tr>\n",
       "    <tr>\n",
       "      <th>std</th>\n",
       "      <td>0.5</td>\n",
       "      <td>0.5</td>\n",
       "      <td>366.4</td>\n",
       "    </tr>\n",
       "    <tr>\n",
       "      <th>min</th>\n",
       "      <td>1.0</td>\n",
       "      <td>1.0</td>\n",
       "      <td>2720.0</td>\n",
       "    </tr>\n",
       "    <tr>\n",
       "      <th>25%</th>\n",
       "      <td>1.0</td>\n",
       "      <td>1.0</td>\n",
       "      <td>3383.0</td>\n",
       "    </tr>\n",
       "    <tr>\n",
       "      <th>50%</th>\n",
       "      <td>1.0</td>\n",
       "      <td>2.0</td>\n",
       "      <td>3642.0</td>\n",
       "    </tr>\n",
       "    <tr>\n",
       "      <th>75%</th>\n",
       "      <td>2.0</td>\n",
       "      <td>2.0</td>\n",
       "      <td>3890.0</td>\n",
       "    </tr>\n",
       "    <tr>\n",
       "      <th>max</th>\n",
       "      <td>2.0</td>\n",
       "      <td>2.0</td>\n",
       "      <td>4747.0</td>\n",
       "    </tr>\n",
       "  </tbody>\n",
       "</table>\n",
       "</div>"
      ],
      "text/plain": [
       "       Gender  Age Range  Head Size(cm^3)\n",
       "count   165.0      165.0            165.0\n",
       "mean      1.4        1.5           3647.9\n",
       "std       0.5        0.5            366.4\n",
       "min       1.0        1.0           2720.0\n",
       "25%       1.0        1.0           3383.0\n",
       "50%       1.0        2.0           3642.0\n",
       "75%       2.0        2.0           3890.0\n",
       "max       2.0        2.0           4747.0"
      ]
     },
     "execution_count": 81,
     "metadata": {},
     "output_type": "execute_result"
    }
   ],
   "source": [
    "np.round(X_train.describe(), 1)"
   ]
  },
  {
   "cell_type": "code",
   "execution_count": 82,
   "id": "807e3aab",
   "metadata": {},
   "outputs": [
    {
     "data": {
      "text/html": [
       "<div>\n",
       "<style scoped>\n",
       "    .dataframe tbody tr th:only-of-type {\n",
       "        vertical-align: middle;\n",
       "    }\n",
       "\n",
       "    .dataframe tbody tr th {\n",
       "        vertical-align: top;\n",
       "    }\n",
       "\n",
       "    .dataframe thead th {\n",
       "        text-align: right;\n",
       "    }\n",
       "</style>\n",
       "<table border=\"1\" class=\"dataframe\">\n",
       "  <thead>\n",
       "    <tr style=\"text-align: right;\">\n",
       "      <th></th>\n",
       "      <th>Gender</th>\n",
       "      <th>Age Range</th>\n",
       "      <th>Head Size(cm^3)</th>\n",
       "    </tr>\n",
       "  </thead>\n",
       "  <tbody>\n",
       "    <tr>\n",
       "      <th>count</th>\n",
       "      <td>165.0</td>\n",
       "      <td>165.0</td>\n",
       "      <td>165.0</td>\n",
       "    </tr>\n",
       "    <tr>\n",
       "      <th>mean</th>\n",
       "      <td>-0.0</td>\n",
       "      <td>0.0</td>\n",
       "      <td>-0.0</td>\n",
       "    </tr>\n",
       "    <tr>\n",
       "      <th>std</th>\n",
       "      <td>1.0</td>\n",
       "      <td>1.0</td>\n",
       "      <td>1.0</td>\n",
       "    </tr>\n",
       "    <tr>\n",
       "      <th>min</th>\n",
       "      <td>-0.9</td>\n",
       "      <td>-1.1</td>\n",
       "      <td>-2.5</td>\n",
       "    </tr>\n",
       "    <tr>\n",
       "      <th>25%</th>\n",
       "      <td>-0.9</td>\n",
       "      <td>-1.1</td>\n",
       "      <td>-0.7</td>\n",
       "    </tr>\n",
       "    <tr>\n",
       "      <th>50%</th>\n",
       "      <td>-0.9</td>\n",
       "      <td>0.9</td>\n",
       "      <td>-0.0</td>\n",
       "    </tr>\n",
       "    <tr>\n",
       "      <th>75%</th>\n",
       "      <td>1.2</td>\n",
       "      <td>0.9</td>\n",
       "      <td>0.7</td>\n",
       "    </tr>\n",
       "    <tr>\n",
       "      <th>max</th>\n",
       "      <td>1.2</td>\n",
       "      <td>0.9</td>\n",
       "      <td>3.0</td>\n",
       "    </tr>\n",
       "  </tbody>\n",
       "</table>\n",
       "</div>"
      ],
      "text/plain": [
       "       Gender  Age Range  Head Size(cm^3)\n",
       "count   165.0      165.0            165.0\n",
       "mean     -0.0        0.0             -0.0\n",
       "std       1.0        1.0              1.0\n",
       "min      -0.9       -1.1             -2.5\n",
       "25%      -0.9       -1.1             -0.7\n",
       "50%      -0.9        0.9             -0.0\n",
       "75%       1.2        0.9              0.7\n",
       "max       1.2        0.9              3.0"
      ]
     },
     "execution_count": 82,
     "metadata": {},
     "output_type": "execute_result"
    }
   ],
   "source": [
    "np.round(x_train_scaled.describe(), 1)"
   ]
  },
  {
   "cell_type": "markdown",
   "id": "10895dbb",
   "metadata": {},
   "source": [
    "## Now we apply supervied learning algo. name LinearRegression for prediction"
   ]
  },
  {
   "cell_type": "code",
   "execution_count": 83,
   "id": "7645772d",
   "metadata": {},
   "outputs": [
    {
     "data": {
      "text/plain": [
       "LinearRegression()"
      ]
     },
     "execution_count": 83,
     "metadata": {},
     "output_type": "execute_result"
    }
   ],
   "source": [
    "from sklearn.linear_model import LinearRegression\n",
    "ln = LinearRegression()\n",
    "ln.fit(x_train_scaled,y_train)"
   ]
  },
  {
   "cell_type": "code",
   "execution_count": 84,
   "id": "687be3bb",
   "metadata": {},
   "outputs": [
    {
     "data": {
      "text/plain": [
       "array([[1309.13014959],\n",
       "       [1298.70362709],\n",
       "       [1372.33036648],\n",
       "       [1251.95142497],\n",
       "       [1313.08876141],\n",
       "       [1264.88001285],\n",
       "       [1480.38705414],\n",
       "       [1263.86956331],\n",
       "       [1398.8080217 ],\n",
       "       [1313.22116259],\n",
       "       [1391.76161295],\n",
       "       [1127.43948907],\n",
       "       [1186.91806057],\n",
       "       [1325.41101526],\n",
       "       [1204.21660925],\n",
       "       [1241.5947198 ],\n",
       "       [1287.32923892],\n",
       "       [1344.84226173],\n",
       "       [1251.07337661],\n",
       "       [1299.04515875],\n",
       "       [1262.3153636 ],\n",
       "       [1402.66206828],\n",
       "       [1342.70956394],\n",
       "       [1292.41009898],\n",
       "       [1344.30574502],\n",
       "       [1331.03562549],\n",
       "       [1178.08771916],\n",
       "       [1305.44325209],\n",
       "       [1466.64300177],\n",
       "       [1103.68026318],\n",
       "       [1175.06973955],\n",
       "       [1267.35424229],\n",
       "       [1225.06965424],\n",
       "       [1375.71771369],\n",
       "       [1358.28676382],\n",
       "       [1235.43359287],\n",
       "       [1327.85049679],\n",
       "       [1347.34432712],\n",
       "       [1323.04135106],\n",
       "       [1243.89456668],\n",
       "       [1331.09820935],\n",
       "       [1176.29655303],\n",
       "       [1158.89343911],\n",
       "       [1361.36732729],\n",
       "       [1424.69994537],\n",
       "       [1286.24897205],\n",
       "       [1232.58999583],\n",
       "       [1171.92659223],\n",
       "       [1162.21096899],\n",
       "       [1127.91342191],\n",
       "       [1206.82323987],\n",
       "       [1284.65279097],\n",
       "       [1264.51064524],\n",
       "       [1428.90275707],\n",
       "       [1221.14579033],\n",
       "       [1203.68009255],\n",
       "       [1154.39107712],\n",
       "       [1196.33413352],\n",
       "       [1300.05560829],\n",
       "       [1097.10778727],\n",
       "       [1151.84703036],\n",
       "       [1220.43489107],\n",
       "       [1181.94176574],\n",
       "       [1222.33062243],\n",
       "       [1271.55705399],\n",
       "       [1350.59927314],\n",
       "       [1239.86613753],\n",
       "       [1432.6942198 ],\n",
       "       [1274.22626848],\n",
       "       [1220.90882391],\n",
       "       [1201.31042835],\n",
       "       [1454.73209689]])"
      ]
     },
     "execution_count": 84,
     "metadata": {},
     "output_type": "execute_result"
    }
   ],
   "source": [
    "predict = ln.predict(x_test_scaled)\n",
    "predict"
   ]
  },
  {
   "cell_type": "code",
   "execution_count": 85,
   "id": "a0fa6277",
   "metadata": {},
   "outputs": [],
   "source": [
    "from sklearn.metrics import r2_score\n",
    "accuracy = r2_score(y_test,predict)"
   ]
  },
  {
   "cell_type": "code",
   "execution_count": 86,
   "id": "48ccdd2c",
   "metadata": {},
   "outputs": [
    {
     "name": "stdout",
     "output_type": "stream",
     "text": [
      "Scaled 0.6694394534965766\n"
     ]
    }
   ],
   "source": [
    "print(\"Scaled\",accuracy)"
   ]
  },
  {
   "cell_type": "code",
   "execution_count": 87,
   "id": "2a404695",
   "metadata": {},
   "outputs": [
    {
     "data": {
      "text/plain": [
       "<AxesSubplot:xlabel='Brain Weight(grams)'>"
      ]
     },
     "execution_count": 87,
     "metadata": {},
     "output_type": "execute_result"
    },
    {
     "data": {
      "image/png": "[encoded data removed]",
      "text/plain": [
       "<Figure size 432x288 with 1 Axes>"
      ]
     },
     "metadata": {
      "needs_background": "light"
     },
     "output_type": "display_data"
    }
   ],
   "source": [
    "sns.regplot(x=y_test,y=predict,data=df)"
   ]
  },
  {
   "cell_type": "code",
   "execution_count": 88,
   "id": "6afb4f66",
   "metadata": {},
   "outputs": [],
   "source": [
    "# from sklearn.tree import DecisionTreeClassifier"
   ]
  },
  {
   "cell_type": "code",
   "execution_count": 89,
   "id": "209f5f84",
   "metadata": {},
   "outputs": [],
   "source": [
    "# dtc = DecisionTreeClassifier()"
   ]
  },
  {
   "cell_type": "code",
   "execution_count": 90,
   "id": "97da5019",
   "metadata": {},
   "outputs": [],
   "source": [
    "# dtc.fit(X_train,y_train)"
   ]
  },
  {
   "cell_type": "code",
   "execution_count": 91,
   "id": "392fa4a2",
   "metadata": {},
   "outputs": [],
   "source": [
    "# predict = dtc.predict(X_test)"
   ]
  },
  {
   "cell_type": "code",
   "execution_count": 92,
   "id": "146db516",
   "metadata": {},
   "outputs": [],
   "source": [
    "# print(\"Actual\",accuracy_score(y_test,predict))"
   ]
  },
  {
   "cell_type": "code",
   "execution_count": 93,
   "id": "a4f95626",
   "metadata": {},
   "outputs": [],
   "source": [
    "# from sklearn.svm import SVR"
   ]
  },
  {
   "cell_type": "code",
   "execution_count": 94,
   "id": "19cbbd95",
   "metadata": {},
   "outputs": [],
   "source": [
    "# sv = SVR()"
   ]
  },
  {
   "cell_type": "code",
   "execution_count": 95,
   "id": "21a15c9e",
   "metadata": {},
   "outputs": [],
   "source": [
    "# sv.fit(X_train,y_train)"
   ]
  },
  {
   "cell_type": "code",
   "execution_count": 96,
   "id": "c0a70365",
   "metadata": {},
   "outputs": [],
   "source": [
    "# pre = sv.predict(X_test)"
   ]
  },
  {
   "cell_type": "code",
   "execution_count": 97,
   "id": "0c006e43",
   "metadata": {},
   "outputs": [],
   "source": [
    "# print('Actual:- ',r2_score(y_test,pre))"
   ]
  },
  {
   "cell_type": "code",
   "execution_count": null,
   "id": "be6a4477",
   "metadata": {},
   "outputs": [],
   "source": []
  }
 ],
 "metadata": {
  "kernelspec": {
   "display_name": "Python 3 (ipykernel)",
   "language": "python",
   "name": "python3"
  },
  "language_info": {
   "codemirror_mode": {
    "name": "ipython",
    "version": 3
   },
   "file_extension": ".py",
   "mimetype": "text/x-python",
   "name": "python",
   "nbconvert_exporter": "python",
   "pygments_lexer": "ipython3",
   "version": "3.7.1"
  }
 },
 "nbformat": 4,
 "nbformat_minor": 5
}
